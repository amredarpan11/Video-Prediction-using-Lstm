{
  "nbformat": 4,
  "nbformat_minor": 0,
  "metadata": {
    "colab": {
      "name": "Video Prediction using Lstm.ipynb",
      "provenance": []
    },
    "kernelspec": {
      "display_name": "Python 3",
      "name": "python3"
    },
    "language_info": {
      "name": "python"
    },
    "widgets": {
      "application/vnd.jupyter.widget-state+json": {
        "4b0c902fd9204575bc13c6e15dc67e53": {
          "model_module": "@jupyter-widgets/controls",
          "model_name": "VBoxModel",
          "model_module_version": "1.5.0",
          "state": {
            "_view_name": "VBoxView",
            "_dom_classes": [],
            "_model_name": "VBoxModel",
            "_view_module": "@jupyter-widgets/controls",
            "_model_module_version": "1.5.0",
            "_view_count": null,
            "_view_module_version": "1.5.0",
            "box_style": "",
            "layout": "IPY_MODEL_54d58bbe6cdf4ca59e40eb47dd206ada",
            "_model_module": "@jupyter-widgets/controls",
            "children": [
              "IPY_MODEL_826117e3c76647f280a2340b58e3eb50",
              "IPY_MODEL_fe82210cc6ee42239837e83e3215e64d"
            ]
          }
        },
        "54d58bbe6cdf4ca59e40eb47dd206ada": {
          "model_module": "@jupyter-widgets/base",
          "model_name": "LayoutModel",
          "model_module_version": "1.2.0",
          "state": {
            "_view_name": "LayoutView",
            "grid_template_rows": null,
            "right": null,
            "justify_content": null,
            "_view_module": "@jupyter-widgets/base",
            "overflow": null,
            "_model_module_version": "1.2.0",
            "_view_count": null,
            "flex_flow": null,
            "width": null,
            "min_width": null,
            "border": null,
            "align_items": null,
            "bottom": null,
            "_model_module": "@jupyter-widgets/base",
            "top": null,
            "grid_column": null,
            "overflow_y": null,
            "overflow_x": null,
            "grid_auto_flow": null,
            "grid_area": null,
            "grid_template_columns": null,
            "flex": null,
            "_model_name": "LayoutModel",
            "justify_items": null,
            "grid_row": null,
            "max_height": null,
            "align_content": null,
            "visibility": null,
            "align_self": null,
            "height": null,
            "min_height": null,
            "padding": null,
            "grid_auto_rows": null,
            "grid_gap": null,
            "max_width": null,
            "order": null,
            "_view_module_version": "1.2.0",
            "grid_template_areas": null,
            "object_position": null,
            "object_fit": null,
            "grid_auto_columns": null,
            "margin": null,
            "display": null,
            "left": null
          }
        },
        "826117e3c76647f280a2340b58e3eb50": {
          "model_module": "@jupyter-widgets/controls",
          "model_name": "LabelModel",
          "model_module_version": "1.5.0",
          "state": {
            "_view_name": "LabelView",
            "style": "IPY_MODEL_1d63f63277d643e18cb2e451e66f7488",
            "_dom_classes": [],
            "description": "",
            "_model_name": "LabelModel",
            "placeholder": "​",
            "_view_module": "@jupyter-widgets/controls",
            "_model_module_version": "1.5.0",
            "value": " 0.01MB of 0.01MB uploaded (0.00MB deduped)\r",
            "_view_count": null,
            "_view_module_version": "1.5.0",
            "description_tooltip": null,
            "_model_module": "@jupyter-widgets/controls",
            "layout": "IPY_MODEL_5c43aec140704b32b82bb88561c4d3b5"
          }
        },
        "fe82210cc6ee42239837e83e3215e64d": {
          "model_module": "@jupyter-widgets/controls",
          "model_name": "FloatProgressModel",
          "model_module_version": "1.5.0",
          "state": {
            "_view_name": "ProgressView",
            "style": "IPY_MODEL_ba92fe35d64c4cc0969f01631051c734",
            "_dom_classes": [],
            "description": "",
            "_model_name": "FloatProgressModel",
            "bar_style": "",
            "max": 1,
            "_view_module": "@jupyter-widgets/controls",
            "_model_module_version": "1.5.0",
            "value": 1,
            "_view_count": null,
            "_view_module_version": "1.5.0",
            "orientation": "horizontal",
            "min": 0,
            "description_tooltip": null,
            "_model_module": "@jupyter-widgets/controls",
            "layout": "IPY_MODEL_4c2f17552d65427187677c525b7a003a"
          }
        },
        "1d63f63277d643e18cb2e451e66f7488": {
          "model_module": "@jupyter-widgets/controls",
          "model_name": "DescriptionStyleModel",
          "model_module_version": "1.5.0",
          "state": {
            "_view_name": "StyleView",
            "_model_name": "DescriptionStyleModel",
            "description_width": "",
            "_view_module": "@jupyter-widgets/base",
            "_model_module_version": "1.5.0",
            "_view_count": null,
            "_view_module_version": "1.2.0",
            "_model_module": "@jupyter-widgets/controls"
          }
        },
        "5c43aec140704b32b82bb88561c4d3b5": {
          "model_module": "@jupyter-widgets/base",
          "model_name": "LayoutModel",
          "model_module_version": "1.2.0",
          "state": {
            "_view_name": "LayoutView",
            "grid_template_rows": null,
            "right": null,
            "justify_content": null,
            "_view_module": "@jupyter-widgets/base",
            "overflow": null,
            "_model_module_version": "1.2.0",
            "_view_count": null,
            "flex_flow": null,
            "width": null,
            "min_width": null,
            "border": null,
            "align_items": null,
            "bottom": null,
            "_model_module": "@jupyter-widgets/base",
            "top": null,
            "grid_column": null,
            "overflow_y": null,
            "overflow_x": null,
            "grid_auto_flow": null,
            "grid_area": null,
            "grid_template_columns": null,
            "flex": null,
            "_model_name": "LayoutModel",
            "justify_items": null,
            "grid_row": null,
            "max_height": null,
            "align_content": null,
            "visibility": null,
            "align_self": null,
            "height": null,
            "min_height": null,
            "padding": null,
            "grid_auto_rows": null,
            "grid_gap": null,
            "max_width": null,
            "order": null,
            "_view_module_version": "1.2.0",
            "grid_template_areas": null,
            "object_position": null,
            "object_fit": null,
            "grid_auto_columns": null,
            "margin": null,
            "display": null,
            "left": null
          }
        },
        "ba92fe35d64c4cc0969f01631051c734": {
          "model_module": "@jupyter-widgets/controls",
          "model_name": "ProgressStyleModel",
          "model_module_version": "1.5.0",
          "state": {
            "_view_name": "StyleView",
            "_model_name": "ProgressStyleModel",
            "description_width": "",
            "_view_module": "@jupyter-widgets/base",
            "_model_module_version": "1.5.0",
            "_view_count": null,
            "_view_module_version": "1.2.0",
            "bar_color": null,
            "_model_module": "@jupyter-widgets/controls"
          }
        },
        "4c2f17552d65427187677c525b7a003a": {
          "model_module": "@jupyter-widgets/base",
          "model_name": "LayoutModel",
          "model_module_version": "1.2.0",
          "state": {
            "_view_name": "LayoutView",
            "grid_template_rows": null,
            "right": null,
            "justify_content": null,
            "_view_module": "@jupyter-widgets/base",
            "overflow": null,
            "_model_module_version": "1.2.0",
            "_view_count": null,
            "flex_flow": null,
            "width": null,
            "min_width": null,
            "border": null,
            "align_items": null,
            "bottom": null,
            "_model_module": "@jupyter-widgets/base",
            "top": null,
            "grid_column": null,
            "overflow_y": null,
            "overflow_x": null,
            "grid_auto_flow": null,
            "grid_area": null,
            "grid_template_columns": null,
            "flex": null,
            "_model_name": "LayoutModel",
            "justify_items": null,
            "grid_row": null,
            "max_height": null,
            "align_content": null,
            "visibility": null,
            "align_self": null,
            "height": null,
            "min_height": null,
            "padding": null,
            "grid_auto_rows": null,
            "grid_gap": null,
            "max_width": null,
            "order": null,
            "_view_module_version": "1.2.0",
            "grid_template_areas": null,
            "object_position": null,
            "object_fit": null,
            "grid_auto_columns": null,
            "margin": null,
            "display": null,
            "left": null
          }
        },
        "b35e6e64ca4d4bc2b3309d66b5412107": {
          "model_module": "@jupyter-widgets/controls",
          "model_name": "VBoxModel",
          "model_module_version": "1.5.0",
          "state": {
            "_view_name": "VBoxView",
            "_dom_classes": [],
            "_model_name": "VBoxModel",
            "_view_module": "@jupyter-widgets/controls",
            "_model_module_version": "1.5.0",
            "_view_count": null,
            "_view_module_version": "1.5.0",
            "box_style": "",
            "layout": "IPY_MODEL_ae95717ecc9e4d3089c2b40de7db7afe",
            "_model_module": "@jupyter-widgets/controls",
            "children": [
              "IPY_MODEL_bc4fb4c305074fc2b0273dea4bb92f10",
              "IPY_MODEL_e238f0cfdd4b40f7a351c0db595c5c1b"
            ]
          }
        },
        "ae95717ecc9e4d3089c2b40de7db7afe": {
          "model_module": "@jupyter-widgets/base",
          "model_name": "LayoutModel",
          "model_module_version": "1.2.0",
          "state": {
            "_view_name": "LayoutView",
            "grid_template_rows": null,
            "right": null,
            "justify_content": null,
            "_view_module": "@jupyter-widgets/base",
            "overflow": null,
            "_model_module_version": "1.2.0",
            "_view_count": null,
            "flex_flow": null,
            "width": null,
            "min_width": null,
            "border": null,
            "align_items": null,
            "bottom": null,
            "_model_module": "@jupyter-widgets/base",
            "top": null,
            "grid_column": null,
            "overflow_y": null,
            "overflow_x": null,
            "grid_auto_flow": null,
            "grid_area": null,
            "grid_template_columns": null,
            "flex": null,
            "_model_name": "LayoutModel",
            "justify_items": null,
            "grid_row": null,
            "max_height": null,
            "align_content": null,
            "visibility": null,
            "align_self": null,
            "height": null,
            "min_height": null,
            "padding": null,
            "grid_auto_rows": null,
            "grid_gap": null,
            "max_width": null,
            "order": null,
            "_view_module_version": "1.2.0",
            "grid_template_areas": null,
            "object_position": null,
            "object_fit": null,
            "grid_auto_columns": null,
            "margin": null,
            "display": null,
            "left": null
          }
        },
        "bc4fb4c305074fc2b0273dea4bb92f10": {
          "model_module": "@jupyter-widgets/controls",
          "model_name": "LabelModel",
          "model_module_version": "1.5.0",
          "state": {
            "_view_name": "LabelView",
            "style": "IPY_MODEL_244921b6e62b4125a46b619ab60b1d08",
            "_dom_classes": [],
            "description": "",
            "_model_name": "LabelModel",
            "placeholder": "​",
            "_view_module": "@jupyter-widgets/controls",
            "_model_module_version": "1.5.0",
            "value": " 9.60MB of 9.60MB uploaded (0.00MB deduped)\r",
            "_view_count": null,
            "_view_module_version": "1.5.0",
            "description_tooltip": null,
            "_model_module": "@jupyter-widgets/controls",
            "layout": "IPY_MODEL_c8bf075ef3d647258ff0c88e9c0b8ebb"
          }
        },
        "e238f0cfdd4b40f7a351c0db595c5c1b": {
          "model_module": "@jupyter-widgets/controls",
          "model_name": "FloatProgressModel",
          "model_module_version": "1.5.0",
          "state": {
            "_view_name": "ProgressView",
            "style": "IPY_MODEL_7be45167aeb545f8b322647108329c64",
            "_dom_classes": [],
            "description": "",
            "_model_name": "FloatProgressModel",
            "bar_style": "",
            "max": 1,
            "_view_module": "@jupyter-widgets/controls",
            "_model_module_version": "1.5.0",
            "value": 1,
            "_view_count": null,
            "_view_module_version": "1.5.0",
            "orientation": "horizontal",
            "min": 0,
            "description_tooltip": null,
            "_model_module": "@jupyter-widgets/controls",
            "layout": "IPY_MODEL_0964df5b8db04c52ab2705faae28790d"
          }
        },
        "244921b6e62b4125a46b619ab60b1d08": {
          "model_module": "@jupyter-widgets/controls",
          "model_name": "DescriptionStyleModel",
          "model_module_version": "1.5.0",
          "state": {
            "_view_name": "StyleView",
            "_model_name": "DescriptionStyleModel",
            "description_width": "",
            "_view_module": "@jupyter-widgets/base",
            "_model_module_version": "1.5.0",
            "_view_count": null,
            "_view_module_version": "1.2.0",
            "_model_module": "@jupyter-widgets/controls"
          }
        },
        "c8bf075ef3d647258ff0c88e9c0b8ebb": {
          "model_module": "@jupyter-widgets/base",
          "model_name": "LayoutModel",
          "model_module_version": "1.2.0",
          "state": {
            "_view_name": "LayoutView",
            "grid_template_rows": null,
            "right": null,
            "justify_content": null,
            "_view_module": "@jupyter-widgets/base",
            "overflow": null,
            "_model_module_version": "1.2.0",
            "_view_count": null,
            "flex_flow": null,
            "width": null,
            "min_width": null,
            "border": null,
            "align_items": null,
            "bottom": null,
            "_model_module": "@jupyter-widgets/base",
            "top": null,
            "grid_column": null,
            "overflow_y": null,
            "overflow_x": null,
            "grid_auto_flow": null,
            "grid_area": null,
            "grid_template_columns": null,
            "flex": null,
            "_model_name": "LayoutModel",
            "justify_items": null,
            "grid_row": null,
            "max_height": null,
            "align_content": null,
            "visibility": null,
            "align_self": null,
            "height": null,
            "min_height": null,
            "padding": null,
            "grid_auto_rows": null,
            "grid_gap": null,
            "max_width": null,
            "order": null,
            "_view_module_version": "1.2.0",
            "grid_template_areas": null,
            "object_position": null,
            "object_fit": null,
            "grid_auto_columns": null,
            "margin": null,
            "display": null,
            "left": null
          }
        },
        "7be45167aeb545f8b322647108329c64": {
          "model_module": "@jupyter-widgets/controls",
          "model_name": "ProgressStyleModel",
          "model_module_version": "1.5.0",
          "state": {
            "_view_name": "StyleView",
            "_model_name": "ProgressStyleModel",
            "description_width": "",
            "_view_module": "@jupyter-widgets/base",
            "_model_module_version": "1.5.0",
            "_view_count": null,
            "_view_module_version": "1.2.0",
            "bar_color": null,
            "_model_module": "@jupyter-widgets/controls"
          }
        },
        "0964df5b8db04c52ab2705faae28790d": {
          "model_module": "@jupyter-widgets/base",
          "model_name": "LayoutModel",
          "model_module_version": "1.2.0",
          "state": {
            "_view_name": "LayoutView",
            "grid_template_rows": null,
            "right": null,
            "justify_content": null,
            "_view_module": "@jupyter-widgets/base",
            "overflow": null,
            "_model_module_version": "1.2.0",
            "_view_count": null,
            "flex_flow": null,
            "width": null,
            "min_width": null,
            "border": null,
            "align_items": null,
            "bottom": null,
            "_model_module": "@jupyter-widgets/base",
            "top": null,
            "grid_column": null,
            "overflow_y": null,
            "overflow_x": null,
            "grid_auto_flow": null,
            "grid_area": null,
            "grid_template_columns": null,
            "flex": null,
            "_model_name": "LayoutModel",
            "justify_items": null,
            "grid_row": null,
            "max_height": null,
            "align_content": null,
            "visibility": null,
            "align_self": null,
            "height": null,
            "min_height": null,
            "padding": null,
            "grid_auto_rows": null,
            "grid_gap": null,
            "max_width": null,
            "order": null,
            "_view_module_version": "1.2.0",
            "grid_template_areas": null,
            "object_position": null,
            "object_fit": null,
            "grid_auto_columns": null,
            "margin": null,
            "display": null,
            "left": null
          }
        },
        "cd474b822efb416f969e864ffaad91c2": {
          "model_module": "@jupyter-widgets/controls",
          "model_name": "VBoxModel",
          "model_module_version": "1.5.0",
          "state": {
            "_view_name": "VBoxView",
            "_dom_classes": [],
            "_model_name": "VBoxModel",
            "_view_module": "@jupyter-widgets/controls",
            "_model_module_version": "1.5.0",
            "_view_count": null,
            "_view_module_version": "1.5.0",
            "box_style": "",
            "layout": "IPY_MODEL_01a1da78fb9847f78b410189006812db",
            "_model_module": "@jupyter-widgets/controls",
            "children": [
              "IPY_MODEL_4f7f79a401374695a9ace96cbb6a4f7b",
              "IPY_MODEL_99ae6a0a4eb24ca492f481bcf54848c9"
            ]
          }
        },
        "01a1da78fb9847f78b410189006812db": {
          "model_module": "@jupyter-widgets/base",
          "model_name": "LayoutModel",
          "model_module_version": "1.2.0",
          "state": {
            "_view_name": "LayoutView",
            "grid_template_rows": null,
            "right": null,
            "justify_content": null,
            "_view_module": "@jupyter-widgets/base",
            "overflow": null,
            "_model_module_version": "1.2.0",
            "_view_count": null,
            "flex_flow": null,
            "width": null,
            "min_width": null,
            "border": null,
            "align_items": null,
            "bottom": null,
            "_model_module": "@jupyter-widgets/base",
            "top": null,
            "grid_column": null,
            "overflow_y": null,
            "overflow_x": null,
            "grid_auto_flow": null,
            "grid_area": null,
            "grid_template_columns": null,
            "flex": null,
            "_model_name": "LayoutModel",
            "justify_items": null,
            "grid_row": null,
            "max_height": null,
            "align_content": null,
            "visibility": null,
            "align_self": null,
            "height": null,
            "min_height": null,
            "padding": null,
            "grid_auto_rows": null,
            "grid_gap": null,
            "max_width": null,
            "order": null,
            "_view_module_version": "1.2.0",
            "grid_template_areas": null,
            "object_position": null,
            "object_fit": null,
            "grid_auto_columns": null,
            "margin": null,
            "display": null,
            "left": null
          }
        },
        "4f7f79a401374695a9ace96cbb6a4f7b": {
          "model_module": "@jupyter-widgets/controls",
          "model_name": "LabelModel",
          "model_module_version": "1.5.0",
          "state": {
            "_view_name": "LabelView",
            "style": "IPY_MODEL_9938cbb8a36f4f7995b255b0165d6930",
            "_dom_classes": [],
            "description": "",
            "_model_name": "LabelModel",
            "placeholder": "​",
            "_view_module": "@jupyter-widgets/controls",
            "_model_module_version": "1.5.0",
            "value": " 11.97MB of 11.97MB uploaded (0.00MB deduped)\r",
            "_view_count": null,
            "_view_module_version": "1.5.0",
            "description_tooltip": null,
            "_model_module": "@jupyter-widgets/controls",
            "layout": "IPY_MODEL_00bfe53fa8e84d65bec403ff5e3c2770"
          }
        },
        "99ae6a0a4eb24ca492f481bcf54848c9": {
          "model_module": "@jupyter-widgets/controls",
          "model_name": "FloatProgressModel",
          "model_module_version": "1.5.0",
          "state": {
            "_view_name": "ProgressView",
            "style": "IPY_MODEL_b43cdea96087435e81f46d9fb85f54d0",
            "_dom_classes": [],
            "description": "",
            "_model_name": "FloatProgressModel",
            "bar_style": "",
            "max": 1,
            "_view_module": "@jupyter-widgets/controls",
            "_model_module_version": "1.5.0",
            "value": 1,
            "_view_count": null,
            "_view_module_version": "1.5.0",
            "orientation": "horizontal",
            "min": 0,
            "description_tooltip": null,
            "_model_module": "@jupyter-widgets/controls",
            "layout": "IPY_MODEL_b247eab72e3249ad8c43940fabcf9d6e"
          }
        },
        "9938cbb8a36f4f7995b255b0165d6930": {
          "model_module": "@jupyter-widgets/controls",
          "model_name": "DescriptionStyleModel",
          "model_module_version": "1.5.0",
          "state": {
            "_view_name": "StyleView",
            "_model_name": "DescriptionStyleModel",
            "description_width": "",
            "_view_module": "@jupyter-widgets/base",
            "_model_module_version": "1.5.0",
            "_view_count": null,
            "_view_module_version": "1.2.0",
            "_model_module": "@jupyter-widgets/controls"
          }
        },
        "00bfe53fa8e84d65bec403ff5e3c2770": {
          "model_module": "@jupyter-widgets/base",
          "model_name": "LayoutModel",
          "model_module_version": "1.2.0",
          "state": {
            "_view_name": "LayoutView",
            "grid_template_rows": null,
            "right": null,
            "justify_content": null,
            "_view_module": "@jupyter-widgets/base",
            "overflow": null,
            "_model_module_version": "1.2.0",
            "_view_count": null,
            "flex_flow": null,
            "width": null,
            "min_width": null,
            "border": null,
            "align_items": null,
            "bottom": null,
            "_model_module": "@jupyter-widgets/base",
            "top": null,
            "grid_column": null,
            "overflow_y": null,
            "overflow_x": null,
            "grid_auto_flow": null,
            "grid_area": null,
            "grid_template_columns": null,
            "flex": null,
            "_model_name": "LayoutModel",
            "justify_items": null,
            "grid_row": null,
            "max_height": null,
            "align_content": null,
            "visibility": null,
            "align_self": null,
            "height": null,
            "min_height": null,
            "padding": null,
            "grid_auto_rows": null,
            "grid_gap": null,
            "max_width": null,
            "order": null,
            "_view_module_version": "1.2.0",
            "grid_template_areas": null,
            "object_position": null,
            "object_fit": null,
            "grid_auto_columns": null,
            "margin": null,
            "display": null,
            "left": null
          }
        },
        "b43cdea96087435e81f46d9fb85f54d0": {
          "model_module": "@jupyter-widgets/controls",
          "model_name": "ProgressStyleModel",
          "model_module_version": "1.5.0",
          "state": {
            "_view_name": "StyleView",
            "_model_name": "ProgressStyleModel",
            "description_width": "",
            "_view_module": "@jupyter-widgets/base",
            "_model_module_version": "1.5.0",
            "_view_count": null,
            "_view_module_version": "1.2.0",
            "bar_color": null,
            "_model_module": "@jupyter-widgets/controls"
          }
        },
        "b247eab72e3249ad8c43940fabcf9d6e": {
          "model_module": "@jupyter-widgets/base",
          "model_name": "LayoutModel",
          "model_module_version": "1.2.0",
          "state": {
            "_view_name": "LayoutView",
            "grid_template_rows": null,
            "right": null,
            "justify_content": null,
            "_view_module": "@jupyter-widgets/base",
            "overflow": null,
            "_model_module_version": "1.2.0",
            "_view_count": null,
            "flex_flow": null,
            "width": null,
            "min_width": null,
            "border": null,
            "align_items": null,
            "bottom": null,
            "_model_module": "@jupyter-widgets/base",
            "top": null,
            "grid_column": null,
            "overflow_y": null,
            "overflow_x": null,
            "grid_auto_flow": null,
            "grid_area": null,
            "grid_template_columns": null,
            "flex": null,
            "_model_name": "LayoutModel",
            "justify_items": null,
            "grid_row": null,
            "max_height": null,
            "align_content": null,
            "visibility": null,
            "align_self": null,
            "height": null,
            "min_height": null,
            "padding": null,
            "grid_auto_rows": null,
            "grid_gap": null,
            "max_width": null,
            "order": null,
            "_view_module_version": "1.2.0",
            "grid_template_areas": null,
            "object_position": null,
            "object_fit": null,
            "grid_auto_columns": null,
            "margin": null,
            "display": null,
            "left": null
          }
        },
        "95481d42092c4f50bd15adecc3b9b15e": {
          "model_module": "@jupyter-widgets/controls",
          "model_name": "VBoxModel",
          "model_module_version": "1.5.0",
          "state": {
            "_view_name": "VBoxView",
            "_dom_classes": [],
            "_model_name": "VBoxModel",
            "_view_module": "@jupyter-widgets/controls",
            "_model_module_version": "1.5.0",
            "_view_count": null,
            "_view_module_version": "1.5.0",
            "box_style": "",
            "layout": "IPY_MODEL_68062b18a5494dd7adb1f1801988db26",
            "_model_module": "@jupyter-widgets/controls",
            "children": [
              "IPY_MODEL_27c71358b936486f9d551b0b023eca0b",
              "IPY_MODEL_6f077ee0aaa1425781974dd9822d0aae"
            ]
          }
        },
        "68062b18a5494dd7adb1f1801988db26": {
          "model_module": "@jupyter-widgets/base",
          "model_name": "LayoutModel",
          "model_module_version": "1.2.0",
          "state": {
            "_view_name": "LayoutView",
            "grid_template_rows": null,
            "right": null,
            "justify_content": null,
            "_view_module": "@jupyter-widgets/base",
            "overflow": null,
            "_model_module_version": "1.2.0",
            "_view_count": null,
            "flex_flow": null,
            "width": null,
            "min_width": null,
            "border": null,
            "align_items": null,
            "bottom": null,
            "_model_module": "@jupyter-widgets/base",
            "top": null,
            "grid_column": null,
            "overflow_y": null,
            "overflow_x": null,
            "grid_auto_flow": null,
            "grid_area": null,
            "grid_template_columns": null,
            "flex": null,
            "_model_name": "LayoutModel",
            "justify_items": null,
            "grid_row": null,
            "max_height": null,
            "align_content": null,
            "visibility": null,
            "align_self": null,
            "height": null,
            "min_height": null,
            "padding": null,
            "grid_auto_rows": null,
            "grid_gap": null,
            "max_width": null,
            "order": null,
            "_view_module_version": "1.2.0",
            "grid_template_areas": null,
            "object_position": null,
            "object_fit": null,
            "grid_auto_columns": null,
            "margin": null,
            "display": null,
            "left": null
          }
        },
        "27c71358b936486f9d551b0b023eca0b": {
          "model_module": "@jupyter-widgets/controls",
          "model_name": "LabelModel",
          "model_module_version": "1.5.0",
          "state": {
            "_view_name": "LabelView",
            "style": "IPY_MODEL_2775dce2d8d94c75a47db653534a50c8",
            "_dom_classes": [],
            "description": "",
            "_model_name": "LabelModel",
            "placeholder": "​",
            "_view_module": "@jupyter-widgets/controls",
            "_model_module_version": "1.5.0",
            "value": " 12.05MB of 12.05MB uploaded (0.00MB deduped)\r",
            "_view_count": null,
            "_view_module_version": "1.5.0",
            "description_tooltip": null,
            "_model_module": "@jupyter-widgets/controls",
            "layout": "IPY_MODEL_8e7ce7a7697f4bb4b5aa06c13750ffaf"
          }
        },
        "6f077ee0aaa1425781974dd9822d0aae": {
          "model_module": "@jupyter-widgets/controls",
          "model_name": "FloatProgressModel",
          "model_module_version": "1.5.0",
          "state": {
            "_view_name": "ProgressView",
            "style": "IPY_MODEL_cb242f74f89443ae8f4f5685df10b05e",
            "_dom_classes": [],
            "description": "",
            "_model_name": "FloatProgressModel",
            "bar_style": "",
            "max": 1,
            "_view_module": "@jupyter-widgets/controls",
            "_model_module_version": "1.5.0",
            "value": 1,
            "_view_count": null,
            "_view_module_version": "1.5.0",
            "orientation": "horizontal",
            "min": 0,
            "description_tooltip": null,
            "_model_module": "@jupyter-widgets/controls",
            "layout": "IPY_MODEL_f03d2c9b8100476eace9ecc1ff543496"
          }
        },
        "2775dce2d8d94c75a47db653534a50c8": {
          "model_module": "@jupyter-widgets/controls",
          "model_name": "DescriptionStyleModel",
          "model_module_version": "1.5.0",
          "state": {
            "_view_name": "StyleView",
            "_model_name": "DescriptionStyleModel",
            "description_width": "",
            "_view_module": "@jupyter-widgets/base",
            "_model_module_version": "1.5.0",
            "_view_count": null,
            "_view_module_version": "1.2.0",
            "_model_module": "@jupyter-widgets/controls"
          }
        },
        "8e7ce7a7697f4bb4b5aa06c13750ffaf": {
          "model_module": "@jupyter-widgets/base",
          "model_name": "LayoutModel",
          "model_module_version": "1.2.0",
          "state": {
            "_view_name": "LayoutView",
            "grid_template_rows": null,
            "right": null,
            "justify_content": null,
            "_view_module": "@jupyter-widgets/base",
            "overflow": null,
            "_model_module_version": "1.2.0",
            "_view_count": null,
            "flex_flow": null,
            "width": null,
            "min_width": null,
            "border": null,
            "align_items": null,
            "bottom": null,
            "_model_module": "@jupyter-widgets/base",
            "top": null,
            "grid_column": null,
            "overflow_y": null,
            "overflow_x": null,
            "grid_auto_flow": null,
            "grid_area": null,
            "grid_template_columns": null,
            "flex": null,
            "_model_name": "LayoutModel",
            "justify_items": null,
            "grid_row": null,
            "max_height": null,
            "align_content": null,
            "visibility": null,
            "align_self": null,
            "height": null,
            "min_height": null,
            "padding": null,
            "grid_auto_rows": null,
            "grid_gap": null,
            "max_width": null,
            "order": null,
            "_view_module_version": "1.2.0",
            "grid_template_areas": null,
            "object_position": null,
            "object_fit": null,
            "grid_auto_columns": null,
            "margin": null,
            "display": null,
            "left": null
          }
        },
        "cb242f74f89443ae8f4f5685df10b05e": {
          "model_module": "@jupyter-widgets/controls",
          "model_name": "ProgressStyleModel",
          "model_module_version": "1.5.0",
          "state": {
            "_view_name": "StyleView",
            "_model_name": "ProgressStyleModel",
            "description_width": "",
            "_view_module": "@jupyter-widgets/base",
            "_model_module_version": "1.5.0",
            "_view_count": null,
            "_view_module_version": "1.2.0",
            "bar_color": null,
            "_model_module": "@jupyter-widgets/controls"
          }
        },
        "f03d2c9b8100476eace9ecc1ff543496": {
          "model_module": "@jupyter-widgets/base",
          "model_name": "LayoutModel",
          "model_module_version": "1.2.0",
          "state": {
            "_view_name": "LayoutView",
            "grid_template_rows": null,
            "right": null,
            "justify_content": null,
            "_view_module": "@jupyter-widgets/base",
            "overflow": null,
            "_model_module_version": "1.2.0",
            "_view_count": null,
            "flex_flow": null,
            "width": null,
            "min_width": null,
            "border": null,
            "align_items": null,
            "bottom": null,
            "_model_module": "@jupyter-widgets/base",
            "top": null,
            "grid_column": null,
            "overflow_y": null,
            "overflow_x": null,
            "grid_auto_flow": null,
            "grid_area": null,
            "grid_template_columns": null,
            "flex": null,
            "_model_name": "LayoutModel",
            "justify_items": null,
            "grid_row": null,
            "max_height": null,
            "align_content": null,
            "visibility": null,
            "align_self": null,
            "height": null,
            "min_height": null,
            "padding": null,
            "grid_auto_rows": null,
            "grid_gap": null,
            "max_width": null,
            "order": null,
            "_view_module_version": "1.2.0",
            "grid_template_areas": null,
            "object_position": null,
            "object_fit": null,
            "grid_auto_columns": null,
            "margin": null,
            "display": null,
            "left": null
          }
        },
        "0214af70bb254c1b8c3ccd5ec6046d31": {
          "model_module": "@jupyter-widgets/controls",
          "model_name": "VBoxModel",
          "model_module_version": "1.5.0",
          "state": {
            "_view_name": "VBoxView",
            "_dom_classes": [],
            "_model_name": "VBoxModel",
            "_view_module": "@jupyter-widgets/controls",
            "_model_module_version": "1.5.0",
            "_view_count": null,
            "_view_module_version": "1.5.0",
            "box_style": "",
            "layout": "IPY_MODEL_4b71dfaffff5487aada820adaec71346",
            "_model_module": "@jupyter-widgets/controls",
            "children": [
              "IPY_MODEL_89538041ad314ae099fd92b71512bc72",
              "IPY_MODEL_b5f51ac85b2745599083c0881162f9d1"
            ]
          }
        },
        "4b71dfaffff5487aada820adaec71346": {
          "model_module": "@jupyter-widgets/base",
          "model_name": "LayoutModel",
          "model_module_version": "1.2.0",
          "state": {
            "_view_name": "LayoutView",
            "grid_template_rows": null,
            "right": null,
            "justify_content": null,
            "_view_module": "@jupyter-widgets/base",
            "overflow": null,
            "_model_module_version": "1.2.0",
            "_view_count": null,
            "flex_flow": null,
            "width": null,
            "min_width": null,
            "border": null,
            "align_items": null,
            "bottom": null,
            "_model_module": "@jupyter-widgets/base",
            "top": null,
            "grid_column": null,
            "overflow_y": null,
            "overflow_x": null,
            "grid_auto_flow": null,
            "grid_area": null,
            "grid_template_columns": null,
            "flex": null,
            "_model_name": "LayoutModel",
            "justify_items": null,
            "grid_row": null,
            "max_height": null,
            "align_content": null,
            "visibility": null,
            "align_self": null,
            "height": null,
            "min_height": null,
            "padding": null,
            "grid_auto_rows": null,
            "grid_gap": null,
            "max_width": null,
            "order": null,
            "_view_module_version": "1.2.0",
            "grid_template_areas": null,
            "object_position": null,
            "object_fit": null,
            "grid_auto_columns": null,
            "margin": null,
            "display": null,
            "left": null
          }
        },
        "89538041ad314ae099fd92b71512bc72": {
          "model_module": "@jupyter-widgets/controls",
          "model_name": "LabelModel",
          "model_module_version": "1.5.0",
          "state": {
            "_view_name": "LabelView",
            "style": "IPY_MODEL_cf9f4db90a124f758441b9a3c09410e6",
            "_dom_classes": [],
            "description": "",
            "_model_name": "LabelModel",
            "placeholder": "​",
            "_view_module": "@jupyter-widgets/controls",
            "_model_module_version": "1.5.0",
            "value": " 124.89MB of 124.89MB uploaded (0.00MB deduped)\r",
            "_view_count": null,
            "_view_module_version": "1.5.0",
            "description_tooltip": null,
            "_model_module": "@jupyter-widgets/controls",
            "layout": "IPY_MODEL_1dd476d1fe5642a5b7c76095af30c2f0"
          }
        },
        "b5f51ac85b2745599083c0881162f9d1": {
          "model_module": "@jupyter-widgets/controls",
          "model_name": "FloatProgressModel",
          "model_module_version": "1.5.0",
          "state": {
            "_view_name": "ProgressView",
            "style": "IPY_MODEL_09b6d8da16a94400912131fcb83d0a24",
            "_dom_classes": [],
            "description": "",
            "_model_name": "FloatProgressModel",
            "bar_style": "",
            "max": 1,
            "_view_module": "@jupyter-widgets/controls",
            "_model_module_version": "1.5.0",
            "value": 1,
            "_view_count": null,
            "_view_module_version": "1.5.0",
            "orientation": "horizontal",
            "min": 0,
            "description_tooltip": null,
            "_model_module": "@jupyter-widgets/controls",
            "layout": "IPY_MODEL_88de0230402c4caa8b1f156e3cc7d3f3"
          }
        },
        "cf9f4db90a124f758441b9a3c09410e6": {
          "model_module": "@jupyter-widgets/controls",
          "model_name": "DescriptionStyleModel",
          "model_module_version": "1.5.0",
          "state": {
            "_view_name": "StyleView",
            "_model_name": "DescriptionStyleModel",
            "description_width": "",
            "_view_module": "@jupyter-widgets/base",
            "_model_module_version": "1.5.0",
            "_view_count": null,
            "_view_module_version": "1.2.0",
            "_model_module": "@jupyter-widgets/controls"
          }
        },
        "1dd476d1fe5642a5b7c76095af30c2f0": {
          "model_module": "@jupyter-widgets/base",
          "model_name": "LayoutModel",
          "model_module_version": "1.2.0",
          "state": {
            "_view_name": "LayoutView",
            "grid_template_rows": null,
            "right": null,
            "justify_content": null,
            "_view_module": "@jupyter-widgets/base",
            "overflow": null,
            "_model_module_version": "1.2.0",
            "_view_count": null,
            "flex_flow": null,
            "width": null,
            "min_width": null,
            "border": null,
            "align_items": null,
            "bottom": null,
            "_model_module": "@jupyter-widgets/base",
            "top": null,
            "grid_column": null,
            "overflow_y": null,
            "overflow_x": null,
            "grid_auto_flow": null,
            "grid_area": null,
            "grid_template_columns": null,
            "flex": null,
            "_model_name": "LayoutModel",
            "justify_items": null,
            "grid_row": null,
            "max_height": null,
            "align_content": null,
            "visibility": null,
            "align_self": null,
            "height": null,
            "min_height": null,
            "padding": null,
            "grid_auto_rows": null,
            "grid_gap": null,
            "max_width": null,
            "order": null,
            "_view_module_version": "1.2.0",
            "grid_template_areas": null,
            "object_position": null,
            "object_fit": null,
            "grid_auto_columns": null,
            "margin": null,
            "display": null,
            "left": null
          }
        },
        "09b6d8da16a94400912131fcb83d0a24": {
          "model_module": "@jupyter-widgets/controls",
          "model_name": "ProgressStyleModel",
          "model_module_version": "1.5.0",
          "state": {
            "_view_name": "StyleView",
            "_model_name": "ProgressStyleModel",
            "description_width": "",
            "_view_module": "@jupyter-widgets/base",
            "_model_module_version": "1.5.0",
            "_view_count": null,
            "_view_module_version": "1.2.0",
            "bar_color": null,
            "_model_module": "@jupyter-widgets/controls"
          }
        },
        "88de0230402c4caa8b1f156e3cc7d3f3": {
          "model_module": "@jupyter-widgets/base",
          "model_name": "LayoutModel",
          "model_module_version": "1.2.0",
          "state": {
            "_view_name": "LayoutView",
            "grid_template_rows": null,
            "right": null,
            "justify_content": null,
            "_view_module": "@jupyter-widgets/base",
            "overflow": null,
            "_model_module_version": "1.2.0",
            "_view_count": null,
            "flex_flow": null,
            "width": null,
            "min_width": null,
            "border": null,
            "align_items": null,
            "bottom": null,
            "_model_module": "@jupyter-widgets/base",
            "top": null,
            "grid_column": null,
            "overflow_y": null,
            "overflow_x": null,
            "grid_auto_flow": null,
            "grid_area": null,
            "grid_template_columns": null,
            "flex": null,
            "_model_name": "LayoutModel",
            "justify_items": null,
            "grid_row": null,
            "max_height": null,
            "align_content": null,
            "visibility": null,
            "align_self": null,
            "height": null,
            "min_height": null,
            "padding": null,
            "grid_auto_rows": null,
            "grid_gap": null,
            "max_width": null,
            "order": null,
            "_view_module_version": "1.2.0",
            "grid_template_areas": null,
            "object_position": null,
            "object_fit": null,
            "grid_auto_columns": null,
            "margin": null,
            "display": null,
            "left": null
          }
        }
      }
    }
  },
  "cells": [
    {
      "cell_type": "code",
      "metadata": {
        "colab": {
          "base_uri": "https://localhost:8080/"
        },
        "id": "PQqQHWOtuCFE",
        "outputId": "5440e88b-efbb-466d-8bd5-63f0447c151b"
      },
      "source": [
        "from keras.models import Sequential\n",
        "from keras.callbacks import Callback\n",
        "from keras.layers import Conv2D, MaxPooling2D, Dropout, Dense, Flatten, UpSampling2D\n",
        "from keras import backend as K\n",
        "\n",
        "import random\n",
        "import glob\n",
        "!pip install wandb\n",
        "import wandb\n",
        "from wandb.keras import WandbCallback\n",
        "import subprocess\n",
        "import os\n",
        "from PIL import Image\n",
        "import numpy as np\n",
        "from matplotlib.pyplot import imshow, figure"
      ],
      "execution_count": 2,
      "outputs": [
        {
          "output_type": "stream",
          "name": "stdout",
          "text": [
            "Collecting wandb\n",
            "  Downloading wandb-0.12.6-py2.py3-none-any.whl (1.7 MB)\n",
            "\u001b[K     |████████████████████████████████| 1.7 MB 4.2 MB/s \n",
            "\u001b[?25hCollecting subprocess32>=3.5.3\n",
            "  Downloading subprocess32-3.5.4.tar.gz (97 kB)\n",
            "\u001b[K     |████████████████████████████████| 97 kB 6.2 MB/s \n",
            "\u001b[?25hCollecting GitPython>=1.0.0\n",
            "  Downloading GitPython-3.1.24-py3-none-any.whl (180 kB)\n",
            "\u001b[K     |████████████████████████████████| 180 kB 28.5 MB/s \n",
            "\u001b[?25hCollecting configparser>=3.8.1\n",
            "  Downloading configparser-5.0.2-py3-none-any.whl (19 kB)\n",
            "Requirement already satisfied: protobuf>=3.12.0 in /usr/local/lib/python3.7/dist-packages (from wandb) (3.17.3)\n",
            "Collecting shortuuid>=0.5.0\n",
            "  Downloading shortuuid-1.0.1-py3-none-any.whl (7.5 kB)\n",
            "Requirement already satisfied: promise<3,>=2.0 in /usr/local/lib/python3.7/dist-packages (from wandb) (2.3)\n",
            "Collecting yaspin>=1.0.0\n",
            "  Downloading yaspin-2.1.0-py3-none-any.whl (18 kB)\n",
            "Requirement already satisfied: requests<3,>=2.0.0 in /usr/local/lib/python3.7/dist-packages (from wandb) (2.23.0)\n",
            "Collecting sentry-sdk>=1.0.0\n",
            "  Downloading sentry_sdk-1.4.3-py2.py3-none-any.whl (139 kB)\n",
            "\u001b[K     |████████████████████████████████| 139 kB 67.8 MB/s \n",
            "\u001b[?25hCollecting docker-pycreds>=0.4.0\n",
            "  Downloading docker_pycreds-0.4.0-py2.py3-none-any.whl (9.0 kB)\n",
            "Requirement already satisfied: python-dateutil>=2.6.1 in /usr/local/lib/python3.7/dist-packages (from wandb) (2.8.2)\n",
            "Requirement already satisfied: Click!=8.0.0,>=7.0 in /usr/local/lib/python3.7/dist-packages (from wandb) (7.1.2)\n",
            "Requirement already satisfied: six>=1.13.0 in /usr/local/lib/python3.7/dist-packages (from wandb) (1.15.0)\n",
            "Requirement already satisfied: psutil>=5.0.0 in /usr/local/lib/python3.7/dist-packages (from wandb) (5.4.8)\n",
            "Collecting pathtools\n",
            "  Downloading pathtools-0.1.2.tar.gz (11 kB)\n",
            "Requirement already satisfied: PyYAML in /usr/local/lib/python3.7/dist-packages (from wandb) (3.13)\n",
            "Collecting gitdb<5,>=4.0.1\n",
            "  Downloading gitdb-4.0.9-py3-none-any.whl (63 kB)\n",
            "\u001b[K     |████████████████████████████████| 63 kB 1.6 MB/s \n",
            "\u001b[?25hRequirement already satisfied: typing-extensions>=3.7.4.3 in /usr/local/lib/python3.7/dist-packages (from GitPython>=1.0.0->wandb) (3.7.4.3)\n",
            "Collecting smmap<6,>=3.0.1\n",
            "  Downloading smmap-5.0.0-py3-none-any.whl (24 kB)\n",
            "Requirement already satisfied: certifi>=2017.4.17 in /usr/local/lib/python3.7/dist-packages (from requests<3,>=2.0.0->wandb) (2021.5.30)\n",
            "Requirement already satisfied: chardet<4,>=3.0.2 in /usr/local/lib/python3.7/dist-packages (from requests<3,>=2.0.0->wandb) (3.0.4)\n",
            "Requirement already satisfied: idna<3,>=2.5 in /usr/local/lib/python3.7/dist-packages (from requests<3,>=2.0.0->wandb) (2.10)\n",
            "Requirement already satisfied: urllib3!=1.25.0,!=1.25.1,<1.26,>=1.21.1 in /usr/local/lib/python3.7/dist-packages (from requests<3,>=2.0.0->wandb) (1.24.3)\n",
            "Requirement already satisfied: termcolor<2.0.0,>=1.1.0 in /usr/local/lib/python3.7/dist-packages (from yaspin>=1.0.0->wandb) (1.1.0)\n",
            "Building wheels for collected packages: subprocess32, pathtools\n",
            "  Building wheel for subprocess32 (setup.py) ... \u001b[?25l\u001b[?25hdone\n",
            "  Created wheel for subprocess32: filename=subprocess32-3.5.4-py3-none-any.whl size=6502 sha256=52c0cc1906f87e3ba36987450b04773f66dcacd1bb25812b4e8d26f4dee6fa3f\n",
            "  Stored in directory: /root/.cache/pip/wheels/50/ca/fa/8fca8d246e64f19488d07567547ddec8eb084e8c0d7a59226a\n",
            "  Building wheel for pathtools (setup.py) ... \u001b[?25l\u001b[?25hdone\n",
            "  Created wheel for pathtools: filename=pathtools-0.1.2-py3-none-any.whl size=8807 sha256=902ae69583fac5849b1e30db2ac9a428c9ccb288a5957edef92bf5f6f129c9ab\n",
            "  Stored in directory: /root/.cache/pip/wheels/3e/31/09/fa59cef12cdcfecc627b3d24273699f390e71828921b2cbba2\n",
            "Successfully built subprocess32 pathtools\n",
            "Installing collected packages: smmap, gitdb, yaspin, subprocess32, shortuuid, sentry-sdk, pathtools, GitPython, docker-pycreds, configparser, wandb\n",
            "Successfully installed GitPython-3.1.24 configparser-5.0.2 docker-pycreds-0.4.0 gitdb-4.0.9 pathtools-0.1.2 sentry-sdk-1.4.3 shortuuid-1.0.1 smmap-5.0.0 subprocess32-3.5.4 wandb-0.12.6 yaspin-2.1.0\n"
          ]
        }
      ]
    },
    {
      "cell_type": "code",
      "metadata": {
        "colab": {
          "base_uri": "https://localhost:8080/",
          "height": 119
        },
        "id": "u9jmZV3UuMtP",
        "outputId": "b0725f06-ef2d-46c1-ff84-59f3feff6a12"
      },
      "source": [
        "hyperparams = {\"num_epochs\": 10, \n",
        "          \"batch_size\": 32,\n",
        "          \"height\": 96,\n",
        "          \"width\": 96}\n",
        "\n",
        "wandb.init(config=hyperparams)\n",
        "config = wandb.config\n",
        "\n",
        "val_dir = 'catz/test'\n",
        "train_dir = 'catz/train'\n",
        "\n",
        "# automatically get the data if it doesn't exist\n",
        "if not os.path.exists(\"catz\"):\n",
        "    print(\"Downloading catz dataset...\")\n",
        "    subprocess.check_output(\n",
        "        \"curl https://storage.googleapis.com/wandb/catz.tar.gz | tar xz\", shell=True)"
      ],
      "execution_count": 3,
      "outputs": [
        {
          "output_type": "display_data",
          "data": {
            "application/javascript": [
              "\n",
              "        window._wandbApiKey = new Promise((resolve, reject) => {\n",
              "            function loadScript(url) {\n",
              "            return new Promise(function(resolve, reject) {\n",
              "                let newScript = document.createElement(\"script\");\n",
              "                newScript.onerror = reject;\n",
              "                newScript.onload = resolve;\n",
              "                document.body.appendChild(newScript);\n",
              "                newScript.src = url;\n",
              "            });\n",
              "            }\n",
              "            loadScript(\"https://cdn.jsdelivr.net/npm/postmate/build/postmate.min.js\").then(() => {\n",
              "            const iframe = document.createElement('iframe')\n",
              "            iframe.style.cssText = \"width:0;height:0;border:none\"\n",
              "            document.body.appendChild(iframe)\n",
              "            const handshake = new Postmate({\n",
              "                container: iframe,\n",
              "                url: 'https://wandb.ai/authorize'\n",
              "            });\n",
              "            const timeout = setTimeout(() => reject(\"Couldn't auto authenticate\"), 5000)\n",
              "            handshake.then(function(child) {\n",
              "                child.on('authorize', data => {\n",
              "                    clearTimeout(timeout)\n",
              "                    resolve(data)\n",
              "                });\n",
              "            });\n",
              "            })\n",
              "        });\n",
              "    "
            ],
            "text/plain": [
              "<IPython.core.display.Javascript object>"
            ]
          },
          "metadata": {}
        },
        {
          "output_type": "stream",
          "name": "stderr",
          "text": [
            "\u001b[34m\u001b[1mwandb\u001b[0m: You can find your API key in your browser here: https://wandb.ai/authorize\n"
          ]
        },
        {
          "name": "stdout",
          "output_type": "stream",
          "text": [
            "wandb: Paste an API key from your profile and hit enter: ··········\n"
          ]
        },
        {
          "output_type": "stream",
          "name": "stderr",
          "text": [
            "\u001b[34m\u001b[1mwandb\u001b[0m: Appending key for api.wandb.ai to your netrc file: /root/.netrc\n"
          ]
        },
        {
          "output_type": "display_data",
          "data": {
            "text/html": [
              "\n",
              "                    Syncing run <strong><a href=\"https://wandb.ai/amre/uncategorized/runs/1tqbkbb1\" target=\"_blank\">gentle-bird-32</a></strong> to <a href=\"https://wandb.ai/amre/uncategorized\" target=\"_blank\">Weights & Biases</a> (<a href=\"https://docs.wandb.com/integrations/jupyter.html\" target=\"_blank\">docs</a>).<br/>\n",
              "\n",
              "                "
            ],
            "text/plain": [
              "<IPython.core.display.HTML object>"
            ]
          },
          "metadata": {}
        },
        {
          "output_type": "stream",
          "name": "stdout",
          "text": [
            "Downloading catz dataset...\n"
          ]
        }
      ]
    },
    {
      "cell_type": "code",
      "metadata": {
        "id": "iHe-4V_VutU_"
      },
      "source": [
        "def my_generator(batch_size, img_dir):\n",
        "    \"\"\"A generator that returns 5 images plus a result image\"\"\"\n",
        "    cat_dirs = glob.glob(img_dir + \"/*\")\n",
        "    counter = 0\n",
        "    while True:\n",
        "        input_images = np.zeros(\n",
        "            (batch_size, config.width, config.height, 3 * 5))\n",
        "        output_images = np.zeros((batch_size, config.width, config.height, 3))\n",
        "        random.shuffle(cat_dirs)\n",
        "        if (counter+batch_size >= len(cat_dirs)):\n",
        "            counter = 0\n",
        "        for i in range(batch_size):\n",
        "            input_imgs = glob.glob(cat_dirs[counter + i] + \"/cat_[0-5]*\")\n",
        "            imgs = [Image.open(img) for img in sorted(input_imgs)]\n",
        "            input_images[i] = np.concatenate(imgs, axis=2)\n",
        "            output_images[i] = np.array(Image.open(\n",
        "                cat_dirs[counter + i] + \"/cat_result.jpg\"))\n",
        "            input_images[i] /= 255.\n",
        "            output_images[i] /= 255.\n",
        "        yield (input_images, output_images)\n",
        "        counter += batch_size\n",
        "        \n",
        "steps_per_epoch = len(glob.glob(train_dir + \"/*\")) // config.batch_size\n",
        "validation_steps = len(glob.glob(val_dir + \"/*\")) // config.batch_size"
      ],
      "execution_count": 4,
      "outputs": []
    },
    {
      "cell_type": "code",
      "metadata": {
        "id": "nQq5MVqCu0Gc"
      },
      "source": [
        "class ImageCallback(Callback):\n",
        "    def on_epoch_end(self, epoch, logs):\n",
        "        validation_X, validation_y = next(\n",
        "            my_generator(15, val_dir))\n",
        "        output = self.model.predict(validation_X)\n",
        "        wandb.log({\n",
        "            \"input\": [wandb.Image(np.concatenate(np.split(c, 5, axis=2), axis=1)) for c in validation_X],\n",
        "            \"output\": [wandb.Image(np.concatenate([validation_y[i], o], axis=1)) for i, o in enumerate(output)]\n",
        "        }, commit=False)"
      ],
      "execution_count": 5,
      "outputs": []
    },
    {
      "cell_type": "code",
      "metadata": {
        "colab": {
          "base_uri": "https://localhost:8080/"
        },
        "id": "2E9gbJHZu9Q-",
        "outputId": "c9f3e05c-5de8-4934-9657-5b87f3d5941c"
      },
      "source": [
        "# Test the generator\n",
        "gen = my_generator(2, train_dir)\n",
        "videos, next_frame = next(gen)\n",
        "videos[0].shape\n",
        "next_frame[0].shape"
      ],
      "execution_count": 6,
      "outputs": [
        {
          "output_type": "execute_result",
          "data": {
            "text/plain": [
              "(96, 96, 3)"
            ]
          },
          "metadata": {},
          "execution_count": 6
        }
      ]
    },
    {
      "cell_type": "code",
      "metadata": {
        "colab": {
          "base_uri": "https://localhost:8080/",
          "height": 1000
        },
        "id": "Ei_3Xu82vALZ",
        "outputId": "82decb91-4878-4300-faa4-addfccfdd893"
      },
      "source": [
        "figure()\n",
        "imshow(videos[0][:,:,0:3])\n",
        "figure()\n",
        "imshow(videos[0][:,:,3:6])\n",
        "figure()\n",
        "imshow(videos[0][:,:,6:9])\n",
        "figure()\n",
        "imshow(videos[0][:,:,9:12])\n",
        "\n",
        "figure()\n",
        "imshow(next_frame[0][:,:,0:3])"
      ],
      "execution_count": 7,
      "outputs": [
        {
          "output_type": "execute_result",
          "data": {
            "text/plain": [
              "<matplotlib.image.AxesImage at 0x7f63929d9110>"
            ]
          },
          "metadata": {},
          "execution_count": 7
        },
        {
          "output_type": "display_data",
          "data": {
            "image/png": "[encoded data removed]",
            "text/plain": [
              "<Figure size 432x288 with 1 Axes>"
            ]
          },
          "metadata": {
            "needs_background": "light"
          }
        },
        {
          "output_type": "display_data",
          "data": {
            "image/png": "[encoded data removed]",
            "text/plain": [
              "<Figure size 432x288 with 1 Axes>"
            ]
          },
          "metadata": {
            "needs_background": "light"
          }
        },
        {
          "output_type": "display_data",
          "data": {
            "image/png": "[encoded data removed]",
            "text/plain": [
              "<Figure size 432x288 with 1 Axes>"
            ]
          },
          "metadata": {
            "needs_background": "light"
          }
        },
        {
          "output_type": "display_data",
          "data": {
            "image/png": "[encoded data removed]",
            "text/plain": [
              "<Figure size 432x288 with 1 Axes>"
            ]
          },
          "metadata": {
            "needs_background": "light"
          }
        },
        {
          "output_type": "display_data",
          "data": {
            "image/png": "[encoded data removed]",
            "text/plain": [
              "<Figure size 432x288 with 1 Axes>"
            ]
          },
          "metadata": {
            "needs_background": "light"
          }
        }
      ]
    },
    {
      "cell_type": "code",
      "metadata": {
        "id": "DiC0Vt8svCj6"
      },
      "source": [
        "# Function for measuring how similar two images are\n",
        "def perceptual_distance(y_true, y_pred):\n",
        "    y_true *= 255.\n",
        "    y_pred *= 255.\n",
        "    rmean = (y_true[:, :, :, 0] + y_pred[:, :, :, 0]) / 2\n",
        "    r = y_true[:, :, :, 0] - y_pred[:, :, :, 0]\n",
        "    g = y_true[:, :, :, 1] - y_pred[:, :, :, 1]\n",
        "    b = y_true[:, :, :, 2] - y_pred[:, :, :, 2]\n",
        "\n",
        "    return K.mean(K.sqrt((((512+rmean)*r*r)/256) + 4*g*g + (((767-rmean)*b*b)/256)))"
      ],
      "execution_count": 8,
      "outputs": []
    },
    {
      "cell_type": "code",
      "metadata": {
        "colab": {
          "base_uri": "https://localhost:8080/",
          "height": 584,
          "referenced_widgets": [
            "4b0c902fd9204575bc13c6e15dc67e53",
            "54d58bbe6cdf4ca59e40eb47dd206ada",
            "826117e3c76647f280a2340b58e3eb50",
            "fe82210cc6ee42239837e83e3215e64d",
            "1d63f63277d643e18cb2e451e66f7488",
            "5c43aec140704b32b82bb88561c4d3b5",
            "ba92fe35d64c4cc0969f01631051c734",
            "4c2f17552d65427187677c525b7a003a"
          ]
        },
        "id": "HyqVk7iTsyXN",
        "outputId": "bda2ec32-9e0d-41a9-ff04-b17d77a850b6"
      },
      "source": [
        "wandb.init(config=hyperparams)\n",
        "config = wandb.config\n",
        "\n",
        "model = Sequential()\n",
        "model.add(Conv2D(3, (3, 3), activation='relu', padding='same', input_shape=(config.height, config.width, 5 * 3)))\n",
        "\n",
        "model.compile(optimizer='adam', loss='mse', metrics=[perceptual_distance])\n",
        "\n",
        "model.fit_generator(my_generator(config.batch_size, train_dir),\n",
        "                    steps_per_epoch=steps_per_epoch//4,\n",
        "                    epochs=config.num_epochs, callbacks=[\n",
        "    ImageCallback(), WandbCallback()],\n",
        "    validation_steps=validation_steps//4,\n",
        "    validation_data=my_generator(config.batch_size, val_dir))"
      ],
      "execution_count": 9,
      "outputs": [
        {
          "output_type": "display_data",
          "data": {
            "text/html": [
              "Finishing last run (ID:1tqbkbb1) before initializing another..."
            ],
            "text/plain": [
              "<IPython.core.display.HTML object>"
            ]
          },
          "metadata": {}
        },
        {
          "output_type": "display_data",
          "data": {
            "text/html": [
              "<br/>Waiting for W&B process to finish, PID 148... <strong style=\"color:green\">(success).</strong>"
            ],
            "text/plain": [
              "<IPython.core.display.HTML object>"
            ]
          },
          "metadata": {}
        },
        {
          "output_type": "display_data",
          "data": {
            "application/vnd.jupyter.widget-view+json": {
              "model_id": "4b0c902fd9204575bc13c6e15dc67e53",
              "version_minor": 0,
              "version_major": 2
            },
            "text/plain": [
              "VBox(children=(Label(value=' 0.00MB of 0.00MB uploaded (0.00MB deduped)\\r'), FloatProgress(value=1.0, max=1.0)…"
            ]
          },
          "metadata": {}
        },
        {
          "output_type": "display_data",
          "data": {
            "text/html": [
              "<style>\n",
              "    table.wandb td:nth-child(1) { padding: 0 10px; text-align: right }\n",
              "    .wandb-row { display: flex; flex-direction: row; flex-wrap: wrap; width: 100% }\n",
              "    .wandb-col { display: flex; flex-direction: column; flex-basis: 100%; flex: 1; padding: 10px; }\n",
              "    </style>\n",
              "<div class=\"wandb-row\"><div class=\"wandb-col\">\n",
              "</div><div class=\"wandb-col\">\n",
              "</div></div>\n",
              "Synced 5 W&B file(s), 0 media file(s), 0 artifact file(s) and 0 other file(s)\n",
              "<br/>Synced <strong style=\"color:#cdcd00\">gentle-bird-32</strong>: <a href=\"https://wandb.ai/amre/uncategorized/runs/1tqbkbb1\" target=\"_blank\">https://wandb.ai/amre/uncategorized/runs/1tqbkbb1</a><br/>\n",
              "Find logs at: <code>./wandb/run-20211102_070918-1tqbkbb1/logs</code><br/>\n"
            ],
            "text/plain": [
              "<IPython.core.display.HTML object>"
            ]
          },
          "metadata": {}
        },
        {
          "output_type": "display_data",
          "data": {
            "text/html": [
              "Successfully finished last run (ID:1tqbkbb1). Initializing new run:<br/>"
            ],
            "text/plain": [
              "<IPython.core.display.HTML object>"
            ]
          },
          "metadata": {}
        },
        {
          "output_type": "display_data",
          "data": {
            "text/html": [
              "\n",
              "                    Syncing run <strong><a href=\"https://wandb.ai/amre/uncategorized/runs/2ga455hh\" target=\"_blank\">bumbling-star-33</a></strong> to <a href=\"https://wandb.ai/amre/uncategorized\" target=\"_blank\">Weights & Biases</a> (<a href=\"https://docs.wandb.com/integrations/jupyter.html\" target=\"_blank\">docs</a>).<br/>\n",
              "\n",
              "                "
            ],
            "text/plain": [
              "<IPython.core.display.HTML object>"
            ]
          },
          "metadata": {}
        },
        {
          "output_type": "stream",
          "name": "stderr",
          "text": [
            "/usr/local/lib/python3.7/dist-packages/keras/engine/training.py:1972: UserWarning: `Model.fit_generator` is deprecated and will be removed in a future version. Please use `Model.fit`, which supports generators.\n",
            "  warnings.warn('`Model.fit_generator` is deprecated and '\n"
          ]
        },
        {
          "output_type": "stream",
          "name": "stdout",
          "text": [
            "Epoch 1/10\n",
            "52/52 [==============================] - 20s 379ms/step - loss: 0.0869 - perceptual_distance: 168.4505 - val_loss: 0.0329 - val_perceptual_distance: 101.5619\n",
            "Epoch 2/10\n",
            "52/52 [==============================] - 20s 383ms/step - loss: 0.0292 - perceptual_distance: 92.0839 - val_loss: 0.0233 - val_perceptual_distance: 79.8200\n",
            "Epoch 3/10\n",
            "52/52 [==============================] - 20s 371ms/step - loss: 0.0191 - perceptual_distance: 70.9513 - val_loss: 0.0170 - val_perceptual_distance: 66.1664\n",
            "Epoch 4/10\n",
            "52/52 [==============================] - 20s 372ms/step - loss: 0.0166 - perceptual_distance: 62.8258 - val_loss: 0.0142 - val_perceptual_distance: 58.6170\n",
            "Epoch 5/10\n",
            "52/52 [==============================] - 20s 373ms/step - loss: 0.0141 - perceptual_distance: 56.5854 - val_loss: 0.0127 - val_perceptual_distance: 52.5398\n",
            "Epoch 6/10\n",
            "52/52 [==============================] - 19s 365ms/step - loss: 0.0118 - perceptual_distance: 51.1731 - val_loss: 0.0113 - val_perceptual_distance: 49.1889\n",
            "Epoch 7/10\n",
            "52/52 [==============================] - 20s 373ms/step - loss: 0.0106 - perceptual_distance: 47.4981 - val_loss: 0.0102 - val_perceptual_distance: 46.5505\n",
            "Epoch 8/10\n",
            "52/52 [==============================] - 20s 374ms/step - loss: 0.0100 - perceptual_distance: 45.6034 - val_loss: 0.0087 - val_perceptual_distance: 42.1581\n",
            "Epoch 9/10\n",
            "52/52 [==============================] - 20s 372ms/step - loss: 0.0092 - perceptual_distance: 42.7811 - val_loss: 0.0091 - val_perceptual_distance: 42.8747\n",
            "Epoch 10/10\n",
            "52/52 [==============================] - 20s 374ms/step - loss: 0.0087 - perceptual_distance: 41.3809 - val_loss: 0.0082 - val_perceptual_distance: 40.4573\n"
          ]
        },
        {
          "output_type": "execute_result",
          "data": {
            "text/plain": [
              "<keras.callbacks.History at 0x7f6392a30390>"
            ]
          },
          "metadata": {},
          "execution_count": 9
        }
      ]
    },
    {
      "cell_type": "code",
      "metadata": {
        "colab": {
          "base_uri": "https://localhost:8080/",
          "height": 790,
          "referenced_widgets": [
            "b35e6e64ca4d4bc2b3309d66b5412107",
            "ae95717ecc9e4d3089c2b40de7db7afe",
            "bc4fb4c305074fc2b0273dea4bb92f10",
            "e238f0cfdd4b40f7a351c0db595c5c1b",
            "244921b6e62b4125a46b619ab60b1d08",
            "c8bf075ef3d647258ff0c88e9c0b8ebb",
            "7be45167aeb545f8b322647108329c64",
            "0964df5b8db04c52ab2705faae28790d"
          ]
        },
        "id": "x1QJGhl6s1GR",
        "outputId": "cb56e3ea-6727-46bd-a3d3-cb1bb6b4b910"
      },
      "source": [
        "# Baseline model - just return the last layer\n",
        "\n",
        "from keras.layers import Lambda, Reshape, Permute\n",
        "\n",
        "def slice(x):\n",
        "    return x[:,:,:,:, -1]\n",
        "\n",
        "wandb.init(config=hyperparams)\n",
        "config = wandb.config\n",
        "\n",
        "model=Sequential()\n",
        "model.add(Reshape((96,96,5,3), input_shape=(config.height, config.width, 5 * 3)))\n",
        "model.add(Permute((1,2,4,3)))\n",
        "model.add(Lambda(slice, input_shape=(96,96,3,5), output_shape=(96,96,3)))\n",
        "\n",
        "model.compile(optimizer='adam', loss='mse', metrics=[perceptual_distance])\n",
        "\n",
        "model.fit_generator(my_generator(config.batch_size, train_dir),\n",
        "                    steps_per_epoch=steps_per_epoch//4,\n",
        "                    epochs=config.num_epochs, callbacks=[\n",
        "    ImageCallback(), WandbCallback()],\n",
        "    validation_steps=validation_steps//4,\n",
        "    validation_data=my_generator(config.batch_size, val_dir))"
      ],
      "execution_count": 10,
      "outputs": [
        {
          "output_type": "display_data",
          "data": {
            "text/html": [
              "Finishing last run (ID:2ga455hh) before initializing another..."
            ],
            "text/plain": [
              "<IPython.core.display.HTML object>"
            ]
          },
          "metadata": {}
        },
        {
          "output_type": "display_data",
          "data": {
            "text/html": [
              "<br/>Waiting for W&B process to finish, PID 200... <strong style=\"color:green\">(success).</strong>"
            ],
            "text/plain": [
              "<IPython.core.display.HTML object>"
            ]
          },
          "metadata": {}
        },
        {
          "output_type": "display_data",
          "data": {
            "application/vnd.jupyter.widget-view+json": {
              "model_id": "b35e6e64ca4d4bc2b3309d66b5412107",
              "version_minor": 0,
              "version_major": 2
            },
            "text/plain": [
              "VBox(children=(Label(value=' 9.59MB of 9.59MB uploaded (0.00MB deduped)\\r'), FloatProgress(value=1.0, max=1.0)…"
            ]
          },
          "metadata": {}
        },
        {
          "output_type": "display_data",
          "data": {
            "text/html": [
              "<style>\n",
              "    table.wandb td:nth-child(1) { padding: 0 10px; text-align: right }\n",
              "    .wandb-row { display: flex; flex-direction: row; flex-wrap: wrap; width: 100% }\n",
              "    .wandb-col { display: flex; flex-direction: column; flex-basis: 100%; flex: 1; padding: 10px; }\n",
              "    </style>\n",
              "<div class=\"wandb-row\"><div class=\"wandb-col\">\n",
              "<h3>Run history:</h3><br/><table class=\"wandb\"><tr><td>epoch</td><td>▁▂▃▃▄▅▆▆▇█</td></tr><tr><td>loss</td><td>█▃▂▂▁▁▁▁▁▁</td></tr><tr><td>perceptual_distance</td><td>█▄▃▂▂▂▁▁▁▁</td></tr><tr><td>val_loss</td><td>█▅▃▃▂▂▂▁▁▁</td></tr><tr><td>val_perceptual_distance</td><td>█▆▄▃▂▂▂▁▁▁</td></tr></table><br/></div><div class=\"wandb-col\">\n",
              "<h3>Run summary:</h3><br/><table class=\"wandb\"><tr><td>best_epoch</td><td>9</td></tr><tr><td>best_val_loss</td><td>0.00816</td></tr><tr><td>epoch</td><td>9</td></tr><tr><td>loss</td><td>0.0087</td></tr><tr><td>perceptual_distance</td><td>41.38088</td></tr><tr><td>val_loss</td><td>0.00816</td></tr><tr><td>val_perceptual_distance</td><td>40.45727</td></tr></table>\n",
              "</div></div>\n",
              "Synced 5 W&B file(s), 301 media file(s), 0 artifact file(s) and 1 other file(s)\n",
              "<br/>Synced <strong style=\"color:#cdcd00\">bumbling-star-33</strong>: <a href=\"https://wandb.ai/amre/uncategorized/runs/2ga455hh\" target=\"_blank\">https://wandb.ai/amre/uncategorized/runs/2ga455hh</a><br/>\n",
              "Find logs at: <code>./wandb/run-20211102_070932-2ga455hh/logs</code><br/>\n"
            ],
            "text/plain": [
              "<IPython.core.display.HTML object>"
            ]
          },
          "metadata": {}
        },
        {
          "output_type": "display_data",
          "data": {
            "text/html": [
              "Successfully finished last run (ID:2ga455hh). Initializing new run:<br/>"
            ],
            "text/plain": [
              "<IPython.core.display.HTML object>"
            ]
          },
          "metadata": {}
        },
        {
          "output_type": "display_data",
          "data": {
            "text/html": [
              "\n",
              "                    Syncing run <strong><a href=\"https://wandb.ai/amre/uncategorized/runs/2v5iyaur\" target=\"_blank\">stellar-hill-34</a></strong> to <a href=\"https://wandb.ai/amre/uncategorized\" target=\"_blank\">Weights & Biases</a> (<a href=\"https://docs.wandb.com/integrations/jupyter.html\" target=\"_blank\">docs</a>).<br/>\n",
              "\n",
              "                "
            ],
            "text/plain": [
              "<IPython.core.display.HTML object>"
            ]
          },
          "metadata": {}
        },
        {
          "output_type": "stream",
          "name": "stderr",
          "text": [
            "/usr/local/lib/python3.7/dist-packages/keras/engine/training.py:1972: UserWarning: `Model.fit_generator` is deprecated and will be removed in a future version. Please use `Model.fit`, which supports generators.\n",
            "  warnings.warn('`Model.fit_generator` is deprecated and '\n"
          ]
        },
        {
          "output_type": "stream",
          "name": "stdout",
          "text": [
            "Epoch 1/10\n",
            "52/52 [==============================] - 9s 175ms/step - loss: 0.0056 - perceptual_distance: 20.6798 - val_loss: 0.0058 - val_perceptual_distance: 20.8509\n",
            "Epoch 2/10\n",
            "52/52 [==============================] - 10s 185ms/step - loss: 0.0053 - perceptual_distance: 20.0195 - val_loss: 0.0074 - val_perceptual_distance: 22.7503\n",
            "Epoch 3/10\n",
            "52/52 [==============================] - 9s 181ms/step - loss: 0.0052 - perceptual_distance: 20.2596 - val_loss: 0.0054 - val_perceptual_distance: 20.0023\n",
            "Epoch 4/10\n",
            "52/52 [==============================] - 9s 182ms/step - loss: 0.0054 - perceptual_distance: 20.4489 - val_loss: 0.0050 - val_perceptual_distance: 18.9065\n",
            "Epoch 5/10\n",
            "52/52 [==============================] - 9s 183ms/step - loss: 0.0051 - perceptual_distance: 20.6391 - val_loss: 0.0046 - val_perceptual_distance: 18.6668\n",
            "Epoch 6/10\n",
            "52/52 [==============================] - 9s 183ms/step - loss: 0.0062 - perceptual_distance: 21.2272 - val_loss: 0.0051 - val_perceptual_distance: 19.1570\n",
            "Epoch 7/10\n",
            "52/52 [==============================] - 9s 183ms/step - loss: 0.0049 - perceptual_distance: 19.8897 - val_loss: 0.0052 - val_perceptual_distance: 19.4939\n",
            "Epoch 8/10\n",
            "52/52 [==============================] - 9s 183ms/step - loss: 0.0051 - perceptual_distance: 19.2651 - val_loss: 0.0053 - val_perceptual_distance: 20.3419\n",
            "Epoch 9/10\n",
            "52/52 [==============================] - 9s 183ms/step - loss: 0.0066 - perceptual_distance: 22.0479 - val_loss: 0.0052 - val_perceptual_distance: 20.2719\n",
            "Epoch 10/10\n",
            "52/52 [==============================] - 9s 184ms/step - loss: 0.0057 - perceptual_distance: 21.5548 - val_loss: 0.0040 - val_perceptual_distance: 17.7881\n"
          ]
        },
        {
          "output_type": "execute_result",
          "data": {
            "text/plain": [
              "<keras.callbacks.History at 0x7f6389b7ce90>"
            ]
          },
          "metadata": {},
          "execution_count": 10
        }
      ]
    },
    {
      "cell_type": "code",
      "metadata": {
        "colab": {
          "base_uri": "https://localhost:8080/",
          "height": 790,
          "referenced_widgets": [
            "cd474b822efb416f969e864ffaad91c2",
            "01a1da78fb9847f78b410189006812db",
            "4f7f79a401374695a9ace96cbb6a4f7b",
            "99ae6a0a4eb24ca492f481bcf54848c9",
            "9938cbb8a36f4f7995b255b0165d6930",
            "00bfe53fa8e84d65bec403ff5e3c2770",
            "b43cdea96087435e81f46d9fb85f54d0",
            "b247eab72e3249ad8c43940fabcf9d6e"
          ]
        },
        "id": "xlTzwwCTCUDQ",
        "outputId": "20fc24ad-21b2-4ae7-f242-b15c389be158"
      },
      "source": [
        "# Just return the last layer, functional style\n",
        "\n",
        "from keras.layers import Lambda, Reshape, Permute, Input\n",
        "from keras.models import Model\n",
        "\n",
        "def slice(x):\n",
        "    return x[:,:,:,:, -1]\n",
        "\n",
        "wandb.init(config=hyperparams)\n",
        "config = wandb.config\n",
        "\n",
        "inp = Input((config.height, config.width, 5 * 3))\n",
        "reshaped = Reshape((96,96,5,3))(inp)\n",
        "permuted = Permute((1,2,4,3))(reshaped)\n",
        "last_layer = Lambda(slice, input_shape=(96,96,3,5), output_shape=(96,96,3))(permuted)\n",
        "model=Model(inputs=[inp], outputs=[last_layer])\n",
        "\n",
        "model.compile(optimizer='adam', loss='mse', metrics=[perceptual_distance])\n",
        "\n",
        "model.fit_generator(my_generator(config.batch_size, train_dir),\n",
        "                    steps_per_epoch=steps_per_epoch//4,\n",
        "                    epochs=config.num_epochs, callbacks=[\n",
        "    ImageCallback(), WandbCallback()],\n",
        "    validation_steps=validation_steps//4,\n",
        "    validation_data=my_generator(config.batch_size, val_dir))"
      ],
      "execution_count": 11,
      "outputs": [
        {
          "output_type": "display_data",
          "data": {
            "text/html": [
              "Finishing last run (ID:2v5iyaur) before initializing another..."
            ],
            "text/plain": [
              "<IPython.core.display.HTML object>"
            ]
          },
          "metadata": {}
        },
        {
          "output_type": "display_data",
          "data": {
            "text/html": [
              "<br/>Waiting for W&B process to finish, PID 651... <strong style=\"color:green\">(success).</strong>"
            ],
            "text/plain": [
              "<IPython.core.display.HTML object>"
            ]
          },
          "metadata": {}
        },
        {
          "output_type": "display_data",
          "data": {
            "application/vnd.jupyter.widget-view+json": {
              "model_id": "cd474b822efb416f969e864ffaad91c2",
              "version_minor": 0,
              "version_major": 2
            },
            "text/plain": [
              "VBox(children=(Label(value=' 11.96MB of 11.96MB uploaded (0.00MB deduped)\\r'), FloatProgress(value=1.0, max=1.…"
            ]
          },
          "metadata": {}
        },
        {
          "output_type": "display_data",
          "data": {
            "text/html": [
              "<style>\n",
              "    table.wandb td:nth-child(1) { padding: 0 10px; text-align: right }\n",
              "    .wandb-row { display: flex; flex-direction: row; flex-wrap: wrap; width: 100% }\n",
              "    .wandb-col { display: flex; flex-direction: column; flex-basis: 100%; flex: 1; padding: 10px; }\n",
              "    </style>\n",
              "<div class=\"wandb-row\"><div class=\"wandb-col\">\n",
              "<h3>Run history:</h3><br/><table class=\"wandb\"><tr><td>epoch</td><td>▁▂▃▃▄▅▆▆▇█</td></tr><tr><td>loss</td><td>▄▃▂▃▂▇▁▂█▄</td></tr><tr><td>perceptual_distance</td><td>▅▃▄▄▄▆▃▁█▇</td></tr><tr><td>val_loss</td><td>▅█▄▃▂▃▄▄▄▁</td></tr><tr><td>val_perceptual_distance</td><td>▅█▄▃▂▃▃▅▅▁</td></tr></table><br/></div><div class=\"wandb-col\">\n",
              "<h3>Run summary:</h3><br/><table class=\"wandb\"><tr><td>best_epoch</td><td>9</td></tr><tr><td>best_val_loss</td><td>0.00403</td></tr><tr><td>epoch</td><td>9</td></tr><tr><td>loss</td><td>0.00568</td></tr><tr><td>perceptual_distance</td><td>21.55475</td></tr><tr><td>val_loss</td><td>0.00403</td></tr><tr><td>val_perceptual_distance</td><td>17.78807</td></tr></table>\n",
              "</div></div>\n",
              "Synced 5 W&B file(s), 301 media file(s), 0 artifact file(s) and 1 other file(s)\n",
              "<br/>Synced <strong style=\"color:#cdcd00\">stellar-hill-34</strong>: <a href=\"https://wandb.ai/amre/uncategorized/runs/2v5iyaur\" target=\"_blank\">https://wandb.ai/amre/uncategorized/runs/2v5iyaur</a><br/>\n",
              "Find logs at: <code>./wandb/run-20211102_071407-2v5iyaur/logs</code><br/>\n"
            ],
            "text/plain": [
              "<IPython.core.display.HTML object>"
            ]
          },
          "metadata": {}
        },
        {
          "output_type": "display_data",
          "data": {
            "text/html": [
              "Successfully finished last run (ID:2v5iyaur). Initializing new run:<br/>"
            ],
            "text/plain": [
              "<IPython.core.display.HTML object>"
            ]
          },
          "metadata": {}
        },
        {
          "output_type": "display_data",
          "data": {
            "text/html": [
              "\n",
              "                    Syncing run <strong><a href=\"https://wandb.ai/amre/uncategorized/runs/3opb4puh\" target=\"_blank\">exalted-haze-35</a></strong> to <a href=\"https://wandb.ai/amre/uncategorized\" target=\"_blank\">Weights & Biases</a> (<a href=\"https://docs.wandb.com/integrations/jupyter.html\" target=\"_blank\">docs</a>).<br/>\n",
              "\n",
              "                "
            ],
            "text/plain": [
              "<IPython.core.display.HTML object>"
            ]
          },
          "metadata": {}
        },
        {
          "output_type": "stream",
          "name": "stderr",
          "text": [
            "/usr/local/lib/python3.7/dist-packages/keras/engine/training.py:1972: UserWarning: `Model.fit_generator` is deprecated and will be removed in a future version. Please use `Model.fit`, which supports generators.\n",
            "  warnings.warn('`Model.fit_generator` is deprecated and '\n"
          ]
        },
        {
          "output_type": "stream",
          "name": "stdout",
          "text": [
            "Epoch 1/10\n",
            "52/52 [==============================] - 9s 177ms/step - loss: 0.0048 - perceptual_distance: 19.6552 - val_loss: 0.0047 - val_perceptual_distance: 18.8599\n",
            "Epoch 2/10\n",
            "52/52 [==============================] - 10s 190ms/step - loss: 0.0057 - perceptual_distance: 20.9440 - val_loss: 0.0053 - val_perceptual_distance: 19.3905\n",
            "Epoch 3/10\n",
            "52/52 [==============================] - 9s 181ms/step - loss: 0.0056 - perceptual_distance: 21.0531 - val_loss: 0.0045 - val_perceptual_distance: 18.9834\n",
            "Epoch 4/10\n",
            "52/52 [==============================] - 10s 185ms/step - loss: 0.0060 - perceptual_distance: 21.2292 - val_loss: 0.0059 - val_perceptual_distance: 21.4208\n",
            "Epoch 5/10\n",
            "52/52 [==============================] - 9s 183ms/step - loss: 0.0058 - perceptual_distance: 20.9491 - val_loss: 0.0073 - val_perceptual_distance: 23.2826\n",
            "Epoch 6/10\n",
            "52/52 [==============================] - 9s 184ms/step - loss: 0.0055 - perceptual_distance: 20.1812 - val_loss: 0.0052 - val_perceptual_distance: 20.0484\n",
            "Epoch 7/10\n",
            "52/52 [==============================] - 10s 186ms/step - loss: 0.0069 - perceptual_distance: 22.5584 - val_loss: 0.0060 - val_perceptual_distance: 21.2342\n",
            "Epoch 8/10\n",
            "52/52 [==============================] - 9s 184ms/step - loss: 0.0054 - perceptual_distance: 19.9894 - val_loss: 0.0073 - val_perceptual_distance: 22.5917\n",
            "Epoch 9/10\n",
            "52/52 [==============================] - 9s 183ms/step - loss: 0.0053 - perceptual_distance: 19.8560 - val_loss: 0.0041 - val_perceptual_distance: 17.2816\n",
            "Epoch 10/10\n",
            "52/52 [==============================] - 9s 184ms/step - loss: 0.0057 - perceptual_distance: 20.9185 - val_loss: 0.0049 - val_perceptual_distance: 19.5456\n"
          ]
        },
        {
          "output_type": "execute_result",
          "data": {
            "text/plain": [
              "<keras.callbacks.History at 0x7f638ba78dd0>"
            ]
          },
          "metadata": {},
          "execution_count": 11
        }
      ]
    },
    {
      "cell_type": "code",
      "metadata": {
        "colab": {
          "base_uri": "https://localhost:8080/",
          "height": 1000,
          "referenced_widgets": [
            "95481d42092c4f50bd15adecc3b9b15e",
            "68062b18a5494dd7adb1f1801988db26",
            "27c71358b936486f9d551b0b023eca0b",
            "6f077ee0aaa1425781974dd9822d0aae",
            "2775dce2d8d94c75a47db653534a50c8",
            "8e7ce7a7697f4bb4b5aa06c13750ffaf",
            "cb242f74f89443ae8f4f5685df10b05e",
            "f03d2c9b8100476eace9ecc1ff543496"
          ]
        },
        "id": "44mDHqkHCY7q",
        "outputId": "a986602a-f43c-4fab-cbd4-5625c929cceb"
      },
      "source": [
        "from keras.layers import Lambda, Reshape, Permute, Input, add, Conv3D\n",
        "from keras.models import Model\n",
        "\n",
        "def slice(x):\n",
        "    return x[:,:,:,:, -1]\n",
        "\n",
        "hyperparams[\"num_epochs\"] = 100\n",
        "wandb.init(config=hyperparams)\n",
        "config = wandb.config\n",
        "\n",
        "inp = Input((config.height, config.width, 5 * 3))\n",
        "reshaped = Reshape((96,96,5,3))(inp)\n",
        "permuted = Permute((1,2,4,3))(reshaped)\n",
        "last_layer = Lambda(slice, input_shape=(96,96,3,5), output_shape=(96,96,3))(permuted)\n",
        "conv_output = Conv3D(1, (3,3,3), padding=\"same\")(permuted)\n",
        "conv_output_reshape = Reshape((96,96,3))(conv_output)\n",
        "combined = add([last_layer, conv_output_reshape])\n",
        "\n",
        "model=Model(inputs=[inp], outputs=[combined])\n",
        "\n",
        "model.compile(optimizer='adam', loss='mse', metrics=[perceptual_distance])\n",
        "\n",
        "model.fit_generator(my_generator(config.batch_size, train_dir),\n",
        "                    steps_per_epoch=steps_per_epoch//4,\n",
        "                    epochs=config.num_epochs, callbacks=[\n",
        "    ImageCallback(), WandbCallback()],\n",
        "    validation_steps=validation_steps//4,\n",
        "    validation_data=my_generator(config.batch_size, val_dir))"
      ],
      "execution_count": 12,
      "outputs": [
        {
          "output_type": "display_data",
          "data": {
            "text/html": [
              "Finishing last run (ID:3opb4puh) before initializing another..."
            ],
            "text/plain": [
              "<IPython.core.display.HTML object>"
            ]
          },
          "metadata": {}
        },
        {
          "output_type": "display_data",
          "data": {
            "text/html": [
              "<br/>Waiting for W&B process to finish, PID 1109... <strong style=\"color:green\">(success).</strong>"
            ],
            "text/plain": [
              "<IPython.core.display.HTML object>"
            ]
          },
          "metadata": {}
        },
        {
          "output_type": "display_data",
          "data": {
            "application/vnd.jupyter.widget-view+json": {
              "model_id": "95481d42092c4f50bd15adecc3b9b15e",
              "version_minor": 0,
              "version_major": 2
            },
            "text/plain": [
              "VBox(children=(Label(value=' 12.04MB of 12.04MB uploaded (0.00MB deduped)\\r'), FloatProgress(value=1.0, max=1.…"
            ]
          },
          "metadata": {}
        },
        {
          "output_type": "display_data",
          "data": {
            "text/html": [
              "<style>\n",
              "    table.wandb td:nth-child(1) { padding: 0 10px; text-align: right }\n",
              "    .wandb-row { display: flex; flex-direction: row; flex-wrap: wrap; width: 100% }\n",
              "    .wandb-col { display: flex; flex-direction: column; flex-basis: 100%; flex: 1; padding: 10px; }\n",
              "    </style>\n",
              "<div class=\"wandb-row\"><div class=\"wandb-col\">\n",
              "<h3>Run history:</h3><br/><table class=\"wandb\"><tr><td>epoch</td><td>▁▂▃▃▄▅▆▆▇█</td></tr><tr><td>loss</td><td>▁▄▄▅▄▃█▃▃▄</td></tr><tr><td>perceptual_distance</td><td>▁▄▄▅▄▂█▂▁▄</td></tr><tr><td>val_loss</td><td>▂▄▂▅█▃▅█▁▃</td></tr><tr><td>val_perceptual_distance</td><td>▃▃▃▆█▄▆▇▁▄</td></tr></table><br/></div><div class=\"wandb-col\">\n",
              "<h3>Run summary:</h3><br/><table class=\"wandb\"><tr><td>best_epoch</td><td>8</td></tr><tr><td>best_val_loss</td><td>0.00408</td></tr><tr><td>epoch</td><td>9</td></tr><tr><td>loss</td><td>0.00569</td></tr><tr><td>perceptual_distance</td><td>20.91853</td></tr><tr><td>val_loss</td><td>0.00486</td></tr><tr><td>val_perceptual_distance</td><td>19.54557</td></tr></table>\n",
              "</div></div>\n",
              "Synced 5 W&B file(s), 301 media file(s), 0 artifact file(s) and 1 other file(s)\n",
              "<br/>Synced <strong style=\"color:#cdcd00\">exalted-haze-35</strong>: <a href=\"https://wandb.ai/amre/uncategorized/runs/3opb4puh\" target=\"_blank\">https://wandb.ai/amre/uncategorized/runs/3opb4puh</a><br/>\n",
              "Find logs at: <code>./wandb/run-20211102_071643-3opb4puh/logs</code><br/>\n"
            ],
            "text/plain": [
              "<IPython.core.display.HTML object>"
            ]
          },
          "metadata": {}
        },
        {
          "output_type": "display_data",
          "data": {
            "text/html": [
              "Successfully finished last run (ID:3opb4puh). Initializing new run:<br/>"
            ],
            "text/plain": [
              "<IPython.core.display.HTML object>"
            ]
          },
          "metadata": {}
        },
        {
          "output_type": "display_data",
          "data": {
            "text/html": [
              "\n",
              "                    Syncing run <strong><a href=\"https://wandb.ai/amre/uncategorized/runs/38bzuxbw\" target=\"_blank\">cool-plant-36</a></strong> to <a href=\"https://wandb.ai/amre/uncategorized\" target=\"_blank\">Weights & Biases</a> (<a href=\"https://docs.wandb.com/integrations/jupyter.html\" target=\"_blank\">docs</a>).<br/>\n",
              "\n",
              "                "
            ],
            "text/plain": [
              "<IPython.core.display.HTML object>"
            ]
          },
          "metadata": {}
        },
        {
          "output_type": "stream",
          "name": "stderr",
          "text": [
            "/usr/local/lib/python3.7/dist-packages/keras/engine/training.py:1972: UserWarning: `Model.fit_generator` is deprecated and will be removed in a future version. Please use `Model.fit`, which supports generators.\n",
            "  warnings.warn('`Model.fit_generator` is deprecated and '\n"
          ]
        },
        {
          "output_type": "stream",
          "name": "stdout",
          "text": [
            "Epoch 1/100\n",
            "52/52 [==============================] - 62s 1s/step - loss: 0.0332 - perceptual_distance: 101.3063 - val_loss: 0.0134 - val_perceptual_distance: 56.7169\n"
          ]
        },
        {
          "output_type": "stream",
          "name": "stderr",
          "text": [
            "/usr/local/lib/python3.7/dist-packages/keras/utils/generic_utils.py:497: CustomMaskWarning: Custom mask layers require a config and must override get_config. When loading, the custom mask layer must be passed to the custom_objects argument.\n",
            "  category=CustomMaskWarning)\n"
          ]
        },
        {
          "output_type": "stream",
          "name": "stdout",
          "text": [
            "Epoch 2/100\n",
            "52/52 [==============================] - 62s 1s/step - loss: 0.0128 - perceptual_distance: 52.4811 - val_loss: 0.0116 - val_perceptual_distance: 47.5743\n",
            "Epoch 3/100\n",
            "52/52 [==============================] - 62s 1s/step - loss: 0.0111 - perceptual_distance: 46.8619 - val_loss: 0.0124 - val_perceptual_distance: 46.8501\n",
            "Epoch 4/100\n",
            "52/52 [==============================] - 62s 1s/step - loss: 0.0102 - perceptual_distance: 42.9322 - val_loss: 0.0084 - val_perceptual_distance: 40.0438\n",
            "Epoch 5/100\n",
            "52/52 [==============================] - 62s 1s/step - loss: 0.0089 - perceptual_distance: 40.7301 - val_loss: 0.0079 - val_perceptual_distance: 39.0883\n",
            "Epoch 6/100\n",
            "52/52 [==============================] - 62s 1s/step - loss: 0.0093 - perceptual_distance: 40.1148 - val_loss: 0.0071 - val_perceptual_distance: 36.4183\n",
            "Epoch 7/100\n",
            "52/52 [==============================] - 62s 1s/step - loss: 0.0086 - perceptual_distance: 39.7684 - val_loss: 0.0070 - val_perceptual_distance: 35.8137\n",
            "Epoch 8/100\n",
            "52/52 [==============================] - 61s 1s/step - loss: 0.0084 - perceptual_distance: 38.3615 - val_loss: 0.0082 - val_perceptual_distance: 38.1736\n",
            "Epoch 9/100\n",
            "52/52 [==============================] - 62s 1s/step - loss: 0.0071 - perceptual_distance: 35.5739 - val_loss: 0.0069 - val_perceptual_distance: 34.0026\n",
            "Epoch 10/100\n",
            "52/52 [==============================] - 62s 1s/step - loss: 0.0073 - perceptual_distance: 36.0901 - val_loss: 0.0076 - val_perceptual_distance: 36.2467\n",
            "Epoch 11/100\n",
            "52/52 [==============================] - 62s 1s/step - loss: 0.0071 - perceptual_distance: 35.3393 - val_loss: 0.0058 - val_perceptual_distance: 32.2889\n",
            "Epoch 12/100\n",
            "52/52 [==============================] - 62s 1s/step - loss: 0.0077 - perceptual_distance: 35.7672 - val_loss: 0.0078 - val_perceptual_distance: 35.6068\n",
            "Epoch 13/100\n",
            "52/52 [==============================] - 61s 1s/step - loss: 0.0075 - perceptual_distance: 35.3369 - val_loss: 0.0080 - val_perceptual_distance: 35.0196\n",
            "Epoch 14/100\n",
            "52/52 [==============================] - 62s 1s/step - loss: 0.0076 - perceptual_distance: 35.0163 - val_loss: 0.0059 - val_perceptual_distance: 31.2980\n",
            "Epoch 15/100\n",
            "52/52 [==============================] - 62s 1s/step - loss: 0.0068 - perceptual_distance: 33.6312 - val_loss: 0.0066 - val_perceptual_distance: 32.8989\n",
            "Epoch 16/100\n",
            "52/52 [==============================] - 62s 1s/step - loss: 0.0070 - perceptual_distance: 33.8079 - val_loss: 0.0073 - val_perceptual_distance: 32.7247\n",
            "Epoch 17/100\n",
            "52/52 [==============================] - 62s 1s/step - loss: 0.0076 - perceptual_distance: 34.7975 - val_loss: 0.0066 - val_perceptual_distance: 33.6563\n",
            "Epoch 18/100\n",
            "52/52 [==============================] - 61s 1s/step - loss: 0.0073 - perceptual_distance: 33.8096 - val_loss: 0.0059 - val_perceptual_distance: 31.2156\n",
            "Epoch 19/100\n",
            "52/52 [==============================] - 62s 1s/step - loss: 0.0083 - perceptual_distance: 35.3869 - val_loss: 0.0084 - val_perceptual_distance: 35.8365\n",
            "Epoch 20/100\n",
            "52/52 [==============================] - 62s 1s/step - loss: 0.0071 - perceptual_distance: 32.9803 - val_loss: 0.0075 - val_perceptual_distance: 32.0028\n",
            "Epoch 21/100\n",
            "52/52 [==============================] - 62s 1s/step - loss: 0.0067 - perceptual_distance: 32.6798 - val_loss: 0.0057 - val_perceptual_distance: 29.6168\n",
            "Epoch 22/100\n",
            "52/52 [==============================] - 62s 1s/step - loss: 0.0067 - perceptual_distance: 31.9610 - val_loss: 0.0054 - val_perceptual_distance: 29.7697\n",
            "Epoch 23/100\n",
            "52/52 [==============================] - 62s 1s/step - loss: 0.0066 - perceptual_distance: 31.7938 - val_loss: 0.0072 - val_perceptual_distance: 30.9834\n",
            "Epoch 24/100\n",
            "52/52 [==============================] - 62s 1s/step - loss: 0.0065 - perceptual_distance: 30.9829 - val_loss: 0.0053 - val_perceptual_distance: 28.1113\n",
            "Epoch 25/100\n",
            "52/52 [==============================] - 62s 1s/step - loss: 0.0064 - perceptual_distance: 30.6009 - val_loss: 0.0064 - val_perceptual_distance: 31.1701\n",
            "Epoch 26/100\n",
            "52/52 [==============================] - 62s 1s/step - loss: 0.0061 - perceptual_distance: 30.6742 - val_loss: 0.0058 - val_perceptual_distance: 29.3651\n",
            "Epoch 27/100\n",
            "52/52 [==============================] - 62s 1s/step - loss: 0.0065 - perceptual_distance: 31.1913 - val_loss: 0.0049 - val_perceptual_distance: 27.9622\n",
            "Epoch 28/100\n",
            "52/52 [==============================] - 62s 1s/step - loss: 0.0060 - perceptual_distance: 29.5936 - val_loss: 0.0054 - val_perceptual_distance: 27.1869\n",
            "Epoch 29/100\n",
            "52/52 [==============================] - 62s 1s/step - loss: 0.0063 - perceptual_distance: 29.6458 - val_loss: 0.0059 - val_perceptual_distance: 29.5573\n",
            "Epoch 30/100\n",
            "52/52 [==============================] - 62s 1s/step - loss: 0.0066 - perceptual_distance: 30.7509 - val_loss: 0.0061 - val_perceptual_distance: 30.5216\n",
            "Epoch 31/100\n",
            "52/52 [==============================] - 62s 1s/step - loss: 0.0059 - perceptual_distance: 29.2322 - val_loss: 0.0055 - val_perceptual_distance: 27.0438\n",
            "Epoch 32/100\n",
            "52/52 [==============================] - 62s 1s/step - loss: 0.0061 - perceptual_distance: 29.3788 - val_loss: 0.0056 - val_perceptual_distance: 28.3906\n",
            "Epoch 33/100\n",
            "52/52 [==============================] - 62s 1s/step - loss: 0.0063 - perceptual_distance: 29.4603 - val_loss: 0.0046 - val_perceptual_distance: 26.5122\n",
            "Epoch 34/100\n",
            "52/52 [==============================] - 62s 1s/step - loss: 0.0074 - perceptual_distance: 31.1828 - val_loss: 0.0073 - val_perceptual_distance: 30.4589\n",
            "Epoch 35/100\n",
            "52/52 [==============================] - 62s 1s/step - loss: 0.0064 - perceptual_distance: 29.9802 - val_loss: 0.0052 - val_perceptual_distance: 27.9849\n",
            "Epoch 36/100\n",
            "52/52 [==============================] - 62s 1s/step - loss: 0.0056 - perceptual_distance: 27.9557 - val_loss: 0.0056 - val_perceptual_distance: 26.9855\n",
            "Epoch 37/100\n",
            "52/52 [==============================] - 62s 1s/step - loss: 0.0052 - perceptual_distance: 27.0740 - val_loss: 0.0056 - val_perceptual_distance: 26.9410\n",
            "Epoch 38/100\n",
            "52/52 [==============================] - 62s 1s/step - loss: 0.0057 - perceptual_distance: 28.3650 - val_loss: 0.0061 - val_perceptual_distance: 33.2837\n",
            "Epoch 39/100\n",
            "52/52 [==============================] - 62s 1s/step - loss: 0.0057 - perceptual_distance: 28.0065 - val_loss: 0.0047 - val_perceptual_distance: 26.0263\n",
            "Epoch 40/100\n",
            "52/52 [==============================] - 63s 1s/step - loss: 0.0048 - perceptual_distance: 25.9970 - val_loss: 0.0058 - val_perceptual_distance: 26.3897\n",
            "Epoch 41/100\n",
            "52/52 [==============================] - 63s 1s/step - loss: 0.0062 - perceptual_distance: 28.8354 - val_loss: 0.0063 - val_perceptual_distance: 26.3847\n",
            "Epoch 42/100\n",
            "52/52 [==============================] - 63s 1s/step - loss: 0.0060 - perceptual_distance: 28.1372 - val_loss: 0.0051 - val_perceptual_distance: 25.2317\n",
            "Epoch 43/100\n",
            "52/52 [==============================] - 62s 1s/step - loss: 0.0054 - perceptual_distance: 27.1271 - val_loss: 0.0056 - val_perceptual_distance: 26.5248\n",
            "Epoch 44/100\n",
            "52/52 [==============================] - 62s 1s/step - loss: 0.0053 - perceptual_distance: 26.6536 - val_loss: 0.0053 - val_perceptual_distance: 25.9809\n",
            "Epoch 45/100\n",
            "52/52 [==============================] - 62s 1s/step - loss: 0.0063 - perceptual_distance: 28.6633 - val_loss: 0.0046 - val_perceptual_distance: 26.7146\n",
            "Epoch 46/100\n",
            "52/52 [==============================] - 63s 1s/step - loss: 0.0050 - perceptual_distance: 25.8234 - val_loss: 0.0058 - val_perceptual_distance: 26.8092\n",
            "Epoch 47/100\n",
            "52/52 [==============================] - 62s 1s/step - loss: 0.0057 - perceptual_distance: 27.5330 - val_loss: 0.0082 - val_perceptual_distance: 29.8165\n",
            "Epoch 48/100\n",
            "52/52 [==============================] - 62s 1s/step - loss: 0.0061 - perceptual_distance: 28.3030 - val_loss: 0.0062 - val_perceptual_distance: 29.2875\n",
            "Epoch 49/100\n",
            "52/52 [==============================] - 62s 1s/step - loss: 0.0063 - perceptual_distance: 28.8034 - val_loss: 0.0050 - val_perceptual_distance: 31.7953\n",
            "Epoch 50/100\n",
            "52/52 [==============================] - 62s 1s/step - loss: 0.0058 - perceptual_distance: 28.9259 - val_loss: 0.0070 - val_perceptual_distance: 28.3750\n",
            "Epoch 51/100\n",
            "52/52 [==============================] - 62s 1s/step - loss: 0.0061 - perceptual_distance: 27.8289 - val_loss: 0.0060 - val_perceptual_distance: 28.9339\n",
            "Epoch 52/100\n",
            "52/52 [==============================] - 62s 1s/step - loss: 0.0052 - perceptual_distance: 26.1533 - val_loss: 0.0053 - val_perceptual_distance: 29.8505\n",
            "Epoch 53/100\n",
            "52/52 [==============================] - 62s 1s/step - loss: 0.0058 - perceptual_distance: 28.0100 - val_loss: 0.0056 - val_perceptual_distance: 26.8168\n",
            "Epoch 54/100\n",
            "52/52 [==============================] - 62s 1s/step - loss: 0.0051 - perceptual_distance: 26.0408 - val_loss: 0.0048 - val_perceptual_distance: 24.6074\n",
            "Epoch 55/100\n",
            "52/52 [==============================] - 62s 1s/step - loss: 0.0054 - perceptual_distance: 26.4082 - val_loss: 0.0052 - val_perceptual_distance: 24.8857\n",
            "Epoch 56/100\n",
            "52/52 [==============================] - 63s 1s/step - loss: 0.0055 - perceptual_distance: 26.4679 - val_loss: 0.0049 - val_perceptual_distance: 24.3760\n",
            "Epoch 57/100\n",
            "52/52 [==============================] - 62s 1s/step - loss: 0.0056 - perceptual_distance: 27.0304 - val_loss: 0.0046 - val_perceptual_distance: 24.0865\n",
            "Epoch 58/100\n",
            "52/52 [==============================] - 62s 1s/step - loss: 0.0046 - perceptual_distance: 24.5639 - val_loss: 0.0051 - val_perceptual_distance: 24.3776\n",
            "Epoch 59/100\n",
            "52/52 [==============================] - 62s 1s/step - loss: 0.0055 - perceptual_distance: 26.6327 - val_loss: 0.0053 - val_perceptual_distance: 26.1336\n",
            "Epoch 60/100\n",
            "52/52 [==============================] - 64s 1s/step - loss: 0.0061 - perceptual_distance: 27.4689 - val_loss: 0.0048 - val_perceptual_distance: 27.3333\n",
            "Epoch 61/100\n",
            "52/52 [==============================] - 62s 1s/step - loss: 0.0047 - perceptual_distance: 25.7227 - val_loss: 0.0062 - val_perceptual_distance: 27.8255\n",
            "Epoch 62/100\n",
            "52/52 [==============================] - 62s 1s/step - loss: 0.0055 - perceptual_distance: 26.4319 - val_loss: 0.0050 - val_perceptual_distance: 26.1123\n",
            "Epoch 63/100\n",
            "52/52 [==============================] - 63s 1s/step - loss: 0.0055 - perceptual_distance: 26.7001 - val_loss: 0.0058 - val_perceptual_distance: 25.9732\n",
            "Epoch 64/100\n",
            "52/52 [==============================] - 62s 1s/step - loss: 0.0057 - perceptual_distance: 26.0932 - val_loss: 0.0053 - val_perceptual_distance: 26.4997\n",
            "Epoch 65/100\n",
            "52/52 [==============================] - 63s 1s/step - loss: 0.0058 - perceptual_distance: 27.0220 - val_loss: 0.0052 - val_perceptual_distance: 25.2279\n",
            "Epoch 66/100\n",
            "52/52 [==============================] - 63s 1s/step - loss: 0.0052 - perceptual_distance: 26.2127 - val_loss: 0.0050 - val_perceptual_distance: 23.6181\n",
            "Epoch 67/100\n",
            "52/52 [==============================] - 63s 1s/step - loss: 0.0065 - perceptual_distance: 29.2282 - val_loss: 0.0066 - val_perceptual_distance: 30.1397\n",
            "Epoch 68/100\n",
            "52/52 [==============================] - 63s 1s/step - loss: 0.0062 - perceptual_distance: 28.1887 - val_loss: 0.0067 - val_perceptual_distance: 27.2862\n",
            "Epoch 69/100\n",
            "52/52 [==============================] - 63s 1s/step - loss: 0.0066 - perceptual_distance: 29.7518 - val_loss: 0.0051 - val_perceptual_distance: 32.2722\n",
            "Epoch 70/100\n",
            "52/52 [==============================] - 63s 1s/step - loss: 0.0060 - perceptual_distance: 28.5531 - val_loss: 0.0055 - val_perceptual_distance: 27.3632\n",
            "Epoch 71/100\n",
            "52/52 [==============================] - 62s 1s/step - loss: 0.0050 - perceptual_distance: 25.2479 - val_loss: 0.0048 - val_perceptual_distance: 25.2899\n",
            "Epoch 72/100\n",
            "52/52 [==============================] - 63s 1s/step - loss: 0.0057 - perceptual_distance: 26.6182 - val_loss: 0.0064 - val_perceptual_distance: 30.9714\n",
            "Epoch 73/100\n",
            "52/52 [==============================] - 63s 1s/step - loss: 0.0063 - perceptual_distance: 29.5945 - val_loss: 0.0054 - val_perceptual_distance: 27.6500\n",
            "Epoch 74/100\n",
            "52/52 [==============================] - 62s 1s/step - loss: 0.0056 - perceptual_distance: 27.4668 - val_loss: 0.0053 - val_perceptual_distance: 27.2178\n",
            "Epoch 75/100\n",
            "52/52 [==============================] - 62s 1s/step - loss: 0.0053 - perceptual_distance: 26.4362 - val_loss: 0.0050 - val_perceptual_distance: 23.5210\n",
            "Epoch 76/100\n",
            "52/52 [==============================] - 62s 1s/step - loss: 0.0054 - perceptual_distance: 25.9939 - val_loss: 0.0064 - val_perceptual_distance: 27.4315\n",
            "Epoch 77/100\n",
            "52/52 [==============================] - 63s 1s/step - loss: 0.0055 - perceptual_distance: 27.4840 - val_loss: 0.0048 - val_perceptual_distance: 28.5697\n",
            "Epoch 78/100\n",
            "52/52 [==============================] - 64s 1s/step - loss: 0.0052 - perceptual_distance: 25.5692 - val_loss: 0.0047 - val_perceptual_distance: 25.2563\n",
            "Epoch 79/100\n",
            "52/52 [==============================] - 63s 1s/step - loss: 0.0044 - perceptual_distance: 23.4770 - val_loss: 0.0048 - val_perceptual_distance: 24.3229\n",
            "Epoch 80/100\n",
            "52/52 [==============================] - 63s 1s/step - loss: 0.0056 - perceptual_distance: 25.9789 - val_loss: 0.0047 - val_perceptual_distance: 25.1413\n",
            "Epoch 81/100\n",
            "52/52 [==============================] - 63s 1s/step - loss: 0.0048 - perceptual_distance: 24.5131 - val_loss: 0.0054 - val_perceptual_distance: 24.1612\n",
            "Epoch 82/100\n",
            "52/52 [==============================] - 63s 1s/step - loss: 0.0060 - perceptual_distance: 28.4919 - val_loss: 0.0043 - val_perceptual_distance: 23.6831\n",
            "Epoch 83/100\n",
            "52/52 [==============================] - 62s 1s/step - loss: 0.0053 - perceptual_distance: 26.4149 - val_loss: 0.0044 - val_perceptual_distance: 23.4313\n",
            "Epoch 84/100\n",
            "52/52 [==============================] - 62s 1s/step - loss: 0.0056 - perceptual_distance: 26.5990 - val_loss: 0.0038 - val_perceptual_distance: 23.5618\n",
            "Epoch 85/100\n",
            "52/52 [==============================] - 63s 1s/step - loss: 0.0048 - perceptual_distance: 25.4402 - val_loss: 0.0049 - val_perceptual_distance: 22.8153\n",
            "Epoch 86/100\n",
            "52/52 [==============================] - 62s 1s/step - loss: 0.0051 - perceptual_distance: 24.5043 - val_loss: 0.0034 - val_perceptual_distance: 21.3707\n",
            "Epoch 87/100\n",
            "52/52 [==============================] - 62s 1s/step - loss: 0.0049 - perceptual_distance: 24.4334 - val_loss: 0.0043 - val_perceptual_distance: 22.9261\n",
            "Epoch 88/100\n",
            "52/52 [==============================] - 63s 1s/step - loss: 0.0053 - perceptual_distance: 25.8997 - val_loss: 0.0042 - val_perceptual_distance: 22.7983\n",
            "Epoch 89/100\n",
            "52/52 [==============================] - 63s 1s/step - loss: 0.0054 - perceptual_distance: 26.3390 - val_loss: 0.0046 - val_perceptual_distance: 23.6170\n",
            "Epoch 90/100\n",
            "52/52 [==============================] - 62s 1s/step - loss: 0.0050 - perceptual_distance: 24.6951 - val_loss: 0.0048 - val_perceptual_distance: 23.7717\n",
            "Epoch 91/100\n",
            "52/52 [==============================] - 62s 1s/step - loss: 0.0053 - perceptual_distance: 26.5529 - val_loss: 0.0045 - val_perceptual_distance: 25.1491\n",
            "Epoch 92/100\n",
            "52/52 [==============================] - 62s 1s/step - loss: 0.0054 - perceptual_distance: 26.0944 - val_loss: 0.0053 - val_perceptual_distance: 32.5354\n",
            "Epoch 93/100\n",
            "52/52 [==============================] - 62s 1s/step - loss: 0.0055 - perceptual_distance: 27.2234 - val_loss: 0.0038 - val_perceptual_distance: 23.5492\n",
            "Epoch 94/100\n",
            "52/52 [==============================] - 62s 1s/step - loss: 0.0058 - perceptual_distance: 26.8232 - val_loss: 0.0078 - val_perceptual_distance: 26.4697\n",
            "Epoch 95/100\n",
            "52/52 [==============================] - 62s 1s/step - loss: 0.0043 - perceptual_distance: 23.3697 - val_loss: 0.0053 - val_perceptual_distance: 24.4450\n",
            "Epoch 96/100\n",
            "52/52 [==============================] - 62s 1s/step - loss: 0.0056 - perceptual_distance: 25.7273 - val_loss: 0.0049 - val_perceptual_distance: 23.8555\n",
            "Epoch 97/100\n",
            "52/52 [==============================] - 64s 1s/step - loss: 0.0051 - perceptual_distance: 25.0320 - val_loss: 0.0047 - val_perceptual_distance: 23.4518\n",
            "Epoch 98/100\n",
            "52/52 [==============================] - 63s 1s/step - loss: 0.0049 - perceptual_distance: 24.7229 - val_loss: 0.0045 - val_perceptual_distance: 24.5377\n",
            "Epoch 99/100\n",
            "52/52 [==============================] - 63s 1s/step - loss: 0.0062 - perceptual_distance: 28.4739 - val_loss: 0.0064 - val_perceptual_distance: 31.7000\n",
            "Epoch 100/100\n",
            "52/52 [==============================] - 63s 1s/step - loss: 0.0048 - perceptual_distance: 25.4924 - val_loss: 0.0054 - val_perceptual_distance: 24.5364\n"
          ]
        },
        {
          "output_type": "execute_result",
          "data": {
            "text/plain": [
              "<keras.callbacks.History at 0x7f638c237e10>"
            ]
          },
          "metadata": {},
          "execution_count": 12
        }
      ]
    },
    {
      "cell_type": "code",
      "metadata": {
        "colab": {
          "base_uri": "https://localhost:8080/",
          "height": 637,
          "referenced_widgets": [
            "0214af70bb254c1b8c3ccd5ec6046d31",
            "4b71dfaffff5487aada820adaec71346",
            "89538041ad314ae099fd92b71512bc72",
            "b5f51ac85b2745599083c0881162f9d1",
            "cf9f4db90a124f758441b9a3c09410e6",
            "1dd476d1fe5642a5b7c76095af30c2f0",
            "09b6d8da16a94400912131fcb83d0a24",
            "88de0230402c4caa8b1f156e3cc7d3f3"
          ]
        },
        "id": "ctF29n_-Cc-Y",
        "outputId": "6c768875-e002-479b-a1e7-55dfc7e28a8c"
      },
      "source": [
        "# Conv3D with Gaussian Noise\n",
        "\n",
        "from keras.layers import Lambda, Reshape, Permute, Input, add, Conv3D, GaussianNoise\n",
        "from keras.models import Model\n",
        "\n",
        "def slice(x):\n",
        "    return x[:,:,:,:, -1]\n",
        "\n",
        "wandb.init()\n",
        "\n",
        "inp = Input((config.height, config.width, 5 * 3))\n",
        "reshaped = Reshape((96,96,5,3))(inp)\n",
        "permuted = Permute((1,2,4,3))(reshaped)\n",
        "noise = GaussianNoise(0.1)(permuted)\n",
        "last_layer = Lambda(slice, input_shape=(96,96,3,5), output_shape=(96,96,3))(noise)\n",
        "conv_output = Conv3D(1, (3,3,3), padding=\"same\")(noise)\n",
        "conv_output_reshape = Reshape((96,96,3))(conv_output)\n",
        "combined = add([last_layer, conv_output_reshape])\n",
        "\n",
        "model=Model(inputs=[inp], outputs=[combined])\n",
        "\n",
        "model.compile(optimizer='adam', loss='mse', metrics=[perceptual_distance])\n",
        "\n",
        "model.fit_generator(my_generator(config.batch_size, train_dir),\n",
        "                    steps_per_epoch=steps_per_epoch//4,\n",
        "                    epochs=config.num_epochs, callbacks=[\n",
        "    ImageCallback(), WandbCallback()],\n",
        "    validation_steps=validation_steps//4,\n",
        "    validation_data=my_generator(config.batch_size, val_dir))"
      ],
      "execution_count": null,
      "outputs": [
        {
          "output_type": "display_data",
          "data": {
            "text/html": [
              "Finishing last run (ID:38bzuxbw) before initializing another..."
            ],
            "text/plain": [
              "<IPython.core.display.HTML object>"
            ]
          },
          "metadata": {}
        },
        {
          "output_type": "display_data",
          "data": {
            "text/html": [
              "<br/>Waiting for W&B process to finish, PID 1551... <strong style=\"color:green\">(success).</strong>"
            ],
            "text/plain": [
              "<IPython.core.display.HTML object>"
            ]
          },
          "metadata": {}
        },
        {
          "output_type": "display_data",
          "data": {
            "application/vnd.jupyter.widget-view+json": {
              "model_id": "0214af70bb254c1b8c3ccd5ec6046d31",
              "version_minor": 0,
              "version_major": 2
            },
            "text/plain": [
              "VBox(children=(Label(value=' 124.72MB of 124.72MB uploaded (0.00MB deduped)\\r'), FloatProgress(value=1.0, max=…"
            ]
          },
          "metadata": {}
        },
        {
          "output_type": "display_data",
          "data": {
            "text/html": [
              "<style>\n",
              "    table.wandb td:nth-child(1) { padding: 0 10px; text-align: right }\n",
              "    .wandb-row { display: flex; flex-direction: row; flex-wrap: wrap; width: 100% }\n",
              "    .wandb-col { display: flex; flex-direction: column; flex-basis: 100%; flex: 1; padding: 10px; }\n",
              "    </style>\n",
              "<div class=\"wandb-row\"><div class=\"wandb-col\">\n",
              "<h3>Run history:</h3><br/><table class=\"wandb\"><tr><td>epoch</td><td>▁▁▁▁▂▂▂▂▂▃▃▃▃▃▃▄▄▄▄▄▅▅▅▅▅▅▆▆▆▆▆▇▇▇▇▇▇███</td></tr><tr><td>loss</td><td>█▃▂▂▂▂▂▂▂▂▁▁▁▂▁▁▁▁▁▁▁▁▁▁▁▁▂▂▁▁▁▁▁▁▁▁▁▁▁▁</td></tr><tr><td>perceptual_distance</td><td>█▃▂▂▂▂▂▂▂▂▂▂▂▂▁▁▁▁▁▁▁▁▁▁▁▁▂▂▁▁▁▁▁▁▁▁▁▁▁▁</td></tr><tr><td>val_loss</td><td>█▇▃▄▂▄▄▃▂▃▂▂▂▄▂▂▃▂▂▂▃▂▂▂▃▂▃▂▃▂▂▂▁▁▁▂▂▄▂▂</td></tr><tr><td>val_perceptual_distance</td><td>█▆▄▄▃▄▃▃▂▃▂▂▂▃▂▂▂▂▂▃▂▁▁▂▂▂▂▃▃▂▂▁▁▁▁▁▃▂▁▁</td></tr></table><br/></div><div class=\"wandb-col\">\n",
              "<h3>Run summary:</h3><br/><table class=\"wandb\"><tr><td>best_epoch</td><td>85</td></tr><tr><td>best_val_loss</td><td>0.0034</td></tr><tr><td>epoch</td><td>99</td></tr><tr><td>loss</td><td>0.0048</td></tr><tr><td>perceptual_distance</td><td>25.49242</td></tr><tr><td>val_loss</td><td>0.00538</td></tr><tr><td>val_perceptual_distance</td><td>24.53641</td></tr></table>\n",
              "</div></div>\n",
              "Synced 5 W&B file(s), 3001 media file(s), 0 artifact file(s) and 1 other file(s)\n",
              "<br/>Synced <strong style=\"color:#cdcd00\">cool-plant-36</strong>: <a href=\"https://wandb.ai/amre/uncategorized/runs/38bzuxbw\" target=\"_blank\">https://wandb.ai/amre/uncategorized/runs/38bzuxbw</a><br/>\n",
              "Find logs at: <code>./wandb/run-20211102_071918-38bzuxbw/logs</code><br/>\n"
            ],
            "text/plain": [
              "<IPython.core.display.HTML object>"
            ]
          },
          "metadata": {}
        },
        {
          "output_type": "display_data",
          "data": {
            "text/html": [
              "Successfully finished last run (ID:38bzuxbw). Initializing new run:<br/>"
            ],
            "text/plain": [
              "<IPython.core.display.HTML object>"
            ]
          },
          "metadata": {}
        },
        {
          "output_type": "display_data",
          "data": {
            "text/html": [
              "\n",
              "                    Syncing run <strong><a href=\"https://wandb.ai/amre/uncategorized/runs/2yx2zhxc\" target=\"_blank\">volcanic-water-37</a></strong> to <a href=\"https://wandb.ai/amre/uncategorized\" target=\"_blank\">Weights & Biases</a> (<a href=\"https://docs.wandb.com/integrations/jupyter.html\" target=\"_blank\">docs</a>).<br/>\n",
              "\n",
              "                "
            ],
            "text/plain": [
              "<IPython.core.display.HTML object>"
            ]
          },
          "metadata": {}
        },
        {
          "output_type": "stream",
          "name": "stderr",
          "text": [
            "/usr/local/lib/python3.7/dist-packages/keras/engine/training.py:1972: UserWarning: `Model.fit_generator` is deprecated and will be removed in a future version. Please use `Model.fit`, which supports generators.\n",
            "  warnings.warn('`Model.fit_generator` is deprecated and '\n"
          ]
        },
        {
          "output_type": "stream",
          "name": "stdout",
          "text": [
            "Epoch 1/100\n",
            "52/52 [==============================] - 68s 1s/step - loss: 0.0625 - perceptual_distance: 161.3903 - val_loss: 0.0237 - val_perceptual_distance: 76.2208\n"
          ]
        },
        {
          "output_type": "stream",
          "name": "stderr",
          "text": [
            "/usr/local/lib/python3.7/dist-packages/keras/utils/generic_utils.py:497: CustomMaskWarning: Custom mask layers require a config and must override get_config. When loading, the custom mask layer must be passed to the custom_objects argument.\n",
            "  category=CustomMaskWarning)\n"
          ]
        },
        {
          "output_type": "stream",
          "name": "stdout",
          "text": [
            "Epoch 2/100\n",
            "52/52 [==============================] - 67s 1s/step - loss: 0.0401 - perceptual_distance: 130.5305 - val_loss: 0.0150 - val_perceptual_distance: 56.4315\n",
            "Epoch 3/100\n",
            "52/52 [==============================] - 66s 1s/step - loss: 0.0316 - perceptual_distance: 117.6796 - val_loss: 0.0103 - val_perceptual_distance: 45.4462\n",
            "Epoch 4/100\n",
            "52/52 [==============================] - 66s 1s/step - loss: 0.0274 - perceptual_distance: 110.1658 - val_loss: 0.0093 - val_perceptual_distance: 41.4388\n",
            "Epoch 5/100\n",
            "45/52 [========================>.....] - ETA: 7s - loss: 0.0246 - perceptual_distance: 104.9010"
          ]
        }
      ]
    },
    {
      "cell_type": "code",
      "metadata": {
        "id": "TVV7jI-ECgvH"
      },
      "source": [
        "from keras.layers import Lambda, Reshape, Permute, Input, add, Conv3D, GaussianNoise, ConvLSTM2D\n",
        "from keras.models import Model\n",
        "\n",
        "def slice(x):\n",
        "    return x[:,:,:,:, -1]\n",
        "\n",
        "wandb.init(config=hyperparams)\n",
        "config = wandb.config\n",
        "\n",
        "inp = Input((config.height, config.width, 5 * 3))\n",
        "reshaped = Reshape((96,96,5,3))(inp)\n",
        "permuted = Permute((1,2,4,3))(reshaped)\n",
        "noise = GaussianNoise(0.1)(permuted)\n",
        "last_layer = Lambda(slice, input_shape=(96,96,3,5), output_shape=(96,96,3))(noise)\n",
        "permuted_2 = Permute((4,1,2,3))(noise)\n",
        "\n",
        "conv_lstm_output_1 = ConvLSTM2D(6, (3,3), padding='same')(permuted_2)\n",
        "conv_output = Conv2D(3, (3,3), padding=\"same\")(conv_lstm_output_1)\n",
        "combined = add([last_layer, conv_output])\n",
        "\n",
        "model=Model(inputs=[inp], outputs=[combined])\n",
        "\n",
        "model.compile(optimizer='adam', loss='mse', metrics=[perceptual_distance])\n",
        "\n",
        "model.fit_generator(my_generator(config.batch_size, train_dir),\n",
        "                    steps_per_epoch=steps_per_epoch//4,\n",
        "                    epochs=config.num_epochs, callbacks=[\n",
        "    ImageCallback(), WandbCallback()],\n",
        "    validation_steps=validation_steps//4,\n",
        "    validation_data=my_generator(config.batch_size, val_dir))"
      ],
      "execution_count": null,
      "outputs": []
    },
    {
      "cell_type": "code",
      "metadata": {
        "id": "QDMsoPAyCoDM"
      },
      "source": [
        "from keras.layers import Lambda, Reshape, Permute, Input, add, Conv3D, GaussianNoise, concatenate\n",
        "from keras.layers import ConvLSTM2D, BatchNormalization, TimeDistributed, Add\n",
        "from keras.models import Model\n",
        "\n",
        "def slice(x):\n",
        "    return x[:,:,:,:, -1]\n",
        "\n",
        "wandb.init(config=hyperparams)\n",
        "config = wandb.config\n",
        "\n",
        "c=4\n",
        "\n",
        "inp = Input((config.height, config.width, 5 * 3))\n",
        "reshaped = Reshape((96,96,5,3))(inp)\n",
        "permuted = Permute((1,2,4,3))(reshaped)\n",
        "noise = GaussianNoise(0.1)(permuted)\n",
        "last_layer = Lambda(slice, input_shape=(96,96,3,5), output_shape=(96,96,3))(noise)\n",
        "x = Permute((4,1,2,3))(noise)\n",
        "x =(ConvLSTM2D(filters=c, kernel_size=(3,3),padding='same',name='conv_lstm1', return_sequences=True))(x)\n",
        "\n",
        "c1=(BatchNormalization())(x)\n",
        "x = Dropout(0.2)(x)\n",
        "x =(TimeDistributed(MaxPooling2D(pool_size=(2,2))))(c1)\n",
        "\n",
        "x =(ConvLSTM2D(filters=2*c,kernel_size=(3,3),padding='same',name='conv_lstm3',return_sequences=True))(x)\n",
        "c2=(BatchNormalization())(x)\n",
        "x = Dropout(0.2)(x)\n",
        "\n",
        "x =(TimeDistributed(MaxPooling2D(pool_size=(2,2))))(c2)\n",
        "x =(ConvLSTM2D(filters=4*c,kernel_size=(3,3),padding='same',name='conv_lstm4',return_sequences=True))(x)\n",
        "\n",
        "x =(TimeDistributed(UpSampling2D(size=(2, 2))))(x)\n",
        "x =(ConvLSTM2D(filters=4*c,kernel_size=(3,3),padding='same',name='conv_lstm5',return_sequences=True))(x)\n",
        "x =(BatchNormalization())(x)\n",
        "\n",
        "x =(ConvLSTM2D(filters=2*c,kernel_size=(3,3),padding='same',name='conv_lstm6',return_sequences=True))(x)\n",
        "x =(BatchNormalization())(x)\n",
        "x = Add()([c2, x])\n",
        "x = Dropout(0.2)(x)\n",
        "\n",
        "x =(TimeDistributed(UpSampling2D(size=(2, 2))))(x)\n",
        "x =(ConvLSTM2D(filters=c,kernel_size=(3,3),padding='same',name='conv_lstm7',return_sequences=False))(x)\n",
        "x =(BatchNormalization())(x)\n",
        "combined = concatenate([last_layer, x])\n",
        "combined = Conv2D(3, (1,1))(combined)\n",
        "model=Model(inputs=[inp], outputs=[combined])\n",
        "\n",
        "model.compile(optimizer='adam', loss='mse', metrics=[perceptual_distance])\n",
        "\n",
        "model.fit_generator(my_generator(config.batch_size, train_dir),\n",
        "                    steps_per_epoch=steps_per_epoch//4,\n",
        "                    epochs=config.num_epochs, callbacks=[\n",
        "    ImageCallback(), WandbCallback()],\n",
        "    validation_steps=validation_steps//4,\n",
        "    validation_data=my_generator(config.batch_size, val_dir))"
      ],
      "execution_count": null,
      "outputs": []
    },
    {
      "cell_type": "code",
      "metadata": {
        "id": "oRMQKr-QCzIg"
      },
      "source": [
        ""
      ],
      "execution_count": null,
      "outputs": []
    }
  ]
}